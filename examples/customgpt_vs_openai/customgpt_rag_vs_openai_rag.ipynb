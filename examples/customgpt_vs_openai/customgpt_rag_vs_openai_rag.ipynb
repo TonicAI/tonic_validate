{
 "cells": [
  {
   "cell_type": "markdown",
   "metadata": {
    "id": "T0o-4pVNHKDt"
   },
   "source": [
    "### Setup"
   ]
  },
  {
   "cell_type": "code",
   "execution_count": 1,
   "metadata": {
    "id": "g-z_1VNFHKDv"
   },
   "outputs": [],
   "source": [
    "from typing import List\n",
    "from openai import OpenAI\n",
    "from tonic_validate import ValidateScorer, Benchmark, BenchmarkItem, LLMResponse, BenchmarkItem, Run\n",
    "from tonic_validate.metrics import AnswerSimilarityMetric\n",
    "from concurrent.futures import ThreadPoolExecutor\n",
    "from tqdm import tqdm\n",
    "import os\n",
    "import time\n",
    "import json\n",
    "import pandas as pd\n",
    "import matplotlib.pyplot as plt\n",
    "\n",
    "# os.environ['OPENAI_API_KEY'] = \"YOUR_OPENAI_API_KEY\"\n",
    "\n",
    "\n",
    "with open(\"qa_pairs.json\", \"r\") as f:\n",
    "    qa_pairs = json.load(f)\n",
    "\n",
    "# for testing\n",
    "qa_pairs = qa_pairs\n",
    "\n",
    "benchmark = Benchmark(\n",
    "    questions=[x[\"question\"] for x in qa_pairs],\n",
    "    answers=[x[\"answer\"] for x in qa_pairs]\n",
    ")\n",
    "\n",
    "def run_to_dataframe(run: Run) -> pd.DataFrame:\n",
    "    return pd.DataFrame(\n",
    "        {\n",
    "            \"reference_question\": [x.reference_question for x in run.run_data],\n",
    "            \"reference_answer\": [x.reference_answer for x in run.run_data],\n",
    "            \"llm_answer\": [x.llm_answer for x in run.run_data],\n",
    "            \"llm_context\": [json.dumps(x.llm_context) for x in run.run_data],\n",
    "            \"answer_similarity\": [x.scores[\"answer_similarity\"] for x in run.run_data]\n",
    "        }\n",
    "    )"
   ]
  },
  {
   "cell_type": "markdown",
   "metadata": {
    "id": "OcsKPLRTHKDv"
   },
   "source": [
    "### CustomGPT Conversation\n"
   ]
  },
  {
   "cell_type": "markdown",
   "metadata": {
    "id": "OHxCvqIzHKDw"
   },
   "source": [
    "#### Setup"
   ]
  },
  {
   "cell_type": "code",
   "execution_count": 2,
   "metadata": {
    "id": "Sntzr9vUHKDw"
   },
   "outputs": [],
   "source": [
    "from customgpt_client import CustomGPT\n",
    "from customgpt_client.types import File\n",
    "import uuid\n",
    "CustomGPT.api_key = os.environ[\"CUSTOM_GPT_API_KEY\"]\n",
    "\n",
    "def get_customgpt_rag_response(benchmarkItem: BenchmarkItem, project):\n",
    "    prompt = benchmarkItem.question\n",
    "    conversation_id = uuid.uuid4()\n",
    "    max_retries = 3\n",
    "    run_count = 0\n",
    "\n",
    "    while run_count < max_retries:\n",
    "        try:\n",
    "            response = CustomGPT.Conversation.send(project_id=project.id, session_id=conversation_id, prompt=prompt)\n",
    "            if response.status_code == 200:\n",
    "                openai_response = response.parsed.data.openai_response\n",
    "            else:\n",
    "                raise Exception(f\"Failed in generating CustomGPT Response::{response.status_code}\")\n",
    "            return openai_response\n",
    "        except Exception as e:\n",
    "            run_count += 1\n",
    "            time.sleep(2)\n",
    "\n",
    "\n",
    "def setup_project():\n",
    "    file_ids = []\n",
    "    project = CustomGPT.Project.create(project_name=\"Rag Evaluation\")\n",
    "    if project.status_code == 201:\n",
    "        project_id = project.parsed.data.id\n",
    "\n",
    "        source = CustomGPT.Source.create(project_id=project_id, file=File(payload=open(\"all_essays_in_single_file.txt\", 'rb'), file_name=f\"Paul Graham Essay\"))\n",
    "\n",
    "        is_chat_active = 0\n",
    "        # Check to make sure at least one page is indexed\n",
    "        while not is_chat_active:\n",
    "            response_project = CustomGPT.Project.get(project_id=project_id)\n",
    "            json_project = response_project.parsed\n",
    "            is_chat_active = json_project.data.is_chat_active\n",
    "            time.sleep(5)\n",
    "\n",
    "        return project.parsed.data\n",
    "    else:\n",
    "        raise Exception(\"CustomGPT Project Creation Failed\")\n",
    "    pass\n",
    "\n",
    "project = setup_project()\n"
   ]
  },
  {
   "cell_type": "markdown",
   "metadata": {
    "id": "_7y3BWAlHKDw"
   },
   "source": [
    "#### Testing"
   ]
  },
  {
   "cell_type": "code",
   "execution_count": 3,
   "metadata": {
    "id": "S9dFrO85HKDw"
   },
   "outputs": [
    {
     "name": "stdout",
     "output_type": "stream",
     "text": [
      "According to Paul Graham, the key components necessary to create a technology hub include:\n",
      "\n",
      "- **Presence of a First-rate Research University**: A top-tier university acts as a source of new ideas and talent, which is essential for fostering innovation and startup culture.\n",
      "\n",
      "- **An Attractive Location for Living**: The place should be appealing enough that it attracts wealthy individuals and investors, as well as founders, to live there.\n",
      "\n",
      "- **Rich People and Nerds (Investors and Founders)**: A combination of investors who provide capital and founders who bring in innovation is critical. These are the people who create technology, and their presence is a fundamental requirement for a startup hub.\n",
      "\n",
      "- **Face-to-Face Meetings**: The value of physical interactions is emphasized as irreplaceable, even with advancements in technology. Casual, in-person encounters can lead to the exchange of ideas and solutions that are beneficial for startups.\n",
      "\n",
      "- **A Self-Sustaining Chain Reaction**: Once a critical mass of startups is reached in a location, it can lead to a self-sustaining ecosystem where more founders and investors are drawn to the hub due to the existing network and opportunities.\n",
      "\n",
      "- **Chance Meetings and Relaxation**: The frequency of helpful chance meetings in a startup hub can significantly contribute to the success of startups, similar to how relaxation can help in coming up with ideas.\n",
      "\n",
      "- **Startup Culture**: The spread of startup culture is also a factor, which can be influenced by random factors or the pull of existing startup hubs.\n",
      "\n",
      "These components are derived from the context of Paul Graham's essays on startup hubs and the factors that contribute to their success, particularly in the case of Silicon Valley.\n"
     ]
    }
   ],
   "source": [
    "\n",
    "benchmark_item = BenchmarkItem(\n",
    "    question=\"What key components are necessary to create a technology hub according to Paul Graham?\",\n",
    "    answer=\"\"\n",
    ")\n",
    "\n",
    "print(get_customgpt_rag_response(benchmark_item, project))"
   ]
  },
  {
   "cell_type": "markdown",
   "metadata": {
    "id": "aU3dDuRCHKDx"
   },
   "source": [
    "##### Run through all the questions"
   ]
  },
  {
   "cell_type": "code",
   "execution_count": 4,
   "metadata": {
    "id": "HS_HHmByHKDx"
   },
   "outputs": [
    {
     "name": "stderr",
     "output_type": "stream",
     "text": [
      "100%|███████████████████████████████████████████████████████████████████████████████████████████████████████████████████████████████████████████████████████████████████████████████████| 55/55 [31:22<00:00, 34.23s/it]\n"
     ]
    }
   ],
   "source": [
    "raw_customgpt_responses = []\n",
    "for x in tqdm(benchmark.items):\n",
    "    raw_customgpt_responses.append(get_customgpt_rag_response(x, project))\n"
   ]
  },
  {
   "cell_type": "code",
   "execution_count": 5,
   "metadata": {
    "id": "oosHPNIeHKDy"
   },
   "outputs": [],
   "source": [
    "customgpt_responses = [\n",
    "    LLMResponse(\n",
    "        llm_answer=r, llm_context_list=[], benchmark_item=bi\n",
    "    ) for r, bi in zip(raw_customgpt_responses, benchmark.items)\n",
    "]"
   ]
  },
  {
   "cell_type": "code",
   "execution_count": 6,
   "metadata": {
    "id": "hKtK4EY9HKDy"
   },
   "outputs": [],
   "source": [
    "scorer = ValidateScorer([AnswerSimilarityMetric()])\n",
    "customgpt_run = scorer.score_run(customgpt_responses, parallelism=5)"
   ]
  },
  {
   "cell_type": "code",
   "execution_count": 7,
   "metadata": {
    "id": "jaPFJkngHKDy"
   },
   "outputs": [],
   "source": [
    "customgpt_run_df = run_to_dataframe(customgpt_run)\n",
    "customgpt_run_df.to_csv(\"customgpt_run.csv\", index=False)"
   ]
  },
  {
   "cell_type": "code",
   "execution_count": 8,
   "metadata": {
    "id": "_ouo4BP1HKDz"
   },
   "outputs": [
    {
     "data": {
      "image/png": "[encoded data removed]",
      "text/plain": [
       "<Figure size 640x480 with 1 Axes>"
      ]
     },
     "metadata": {},
     "output_type": "display_data"
    }
   ],
   "source": [
    "customgpt_answer_similarity_scores = pd.Series([x.scores[\"answer_similarity\"] for x in customgpt_run.run_data])\n",
    "category_counts = customgpt_answer_similarity_scores.value_counts()\n",
    "plt.bar(category_counts.index, category_counts.values)\n",
    "\n",
    "plt.title('Distribution of scores for CustomGPT')\n",
    "plt.xlabel('Score')\n",
    "plt.ylabel('Count')\n",
    "\n",
    "plt.bar(category_counts.index, category_counts.values, color='#A679C8')\n",
    "\n",
    "# Remove all scores except whole numbers\n",
    "plt.xticks(range(0, 6, 1))\n",
    "\n",
    "plt.show()"
   ]
  },
  {
   "cell_type": "markdown",
   "metadata": {
    "id": "28jsFJCXHKDz"
   },
   "source": [
    "### OpenAI Rag Assistant"
   ]
  },
  {
   "cell_type": "markdown",
   "metadata": {
    "id": "5pQGqQRmHKDz"
   },
   "source": [
    "#### Setup"
   ]
  },
  {
   "cell_type": "code",
   "execution_count": 9,
   "metadata": {
    "id": "0y5Rs0riHKD0"
   },
   "outputs": [],
   "source": [
    "def get_openai_rag_response(benchmarkItem: BenchmarkItem, assistant):\n",
    "    prompt = benchmarkItem.question\n",
    "    thread = client.beta.threads.create(\n",
    "        messages=[\n",
    "            {\n",
    "                \"role\": \"user\",\n",
    "                \"content\": prompt\n",
    "            }\n",
    "        ]\n",
    "    )\n",
    "    run = client.beta.threads.runs.create(\n",
    "        thread_id=thread.id,\n",
    "        assistant_id=assistant.id,\n",
    "    )\n",
    "    max_retries = 10\n",
    "    base = 0.1\n",
    "    num_retries = 0\n",
    "    try:\n",
    "        while max_retries > 0:\n",
    "            if max_retries == 0:\n",
    "                client.beta.threads.delete(thread.id)\n",
    "                raise Exception(\"Max tries exceeded\")\n",
    "            messages = client.beta.threads.messages.list(\n",
    "                thread_id=thread.id,\n",
    "            )\n",
    "            if len(messages.data)>0 and len(messages.data[0].content)>0:\n",
    "                response_message = messages.data[0].content[0].text.value\n",
    "                if response_message != prompt and response_message.strip():\n",
    "                    annotations = messages.data[0].content[0].text.annotations\n",
    "                    quotes = [x.file_citation.quote for x in annotations if x.file_citation]\n",
    "                    client.beta.threads.delete(thread.id)\n",
    "                    return response_message\n",
    "            time.sleep(base * (2 ** num_retries))\n",
    "            num_retries += 1\n",
    "            max_retries -= 1\n",
    "    except Exception as e:\n",
    "        print(e)\n",
    "        client.beta.threads.delete(thread.id)\n",
    "        raise e\n",
    "\n",
    "#openai rag only supports a max of 20 files. So we just combine all essays into single file\n",
    "def upload_essay():\n",
    "    file_ids=[]\n",
    "    with open(\"all_essays_in_single_file.txt\", 'rb') as essay_file:\n",
    "        file = client.files.create(\n",
    "            file=essay_file,\n",
    "            purpose='assistants'\n",
    "        )\n",
    "        file_ids.append(file.id)\n",
    "    return file_ids\n",
    "\n",
    "def create_assistant(file_ids):\n",
    "    return client.beta.assistants.create(\n",
    "        name=f\"OpenAI Rag Test {len(file_ids)} Files\",\n",
    "        instructions=(\n",
    "            \"You are a chatbot that answers questions about Paul Graham's essays. \"\n",
    "            \"Use your knowledge base to best respond to questions. \"\n",
    "            \"NO MATTER WHAT, DO NOT PULL INFORMATION FROM EXTERNAL KNOWLEDGE. ONLY USE YOUR OWN KNOWLEDGE BASE.\"\n",
    "        ),\n",
    "        model=\"gpt-4-1106-preview\",\n",
    "        tools=[{\"type\": \"retrieval\"}],\n",
    "        file_ids=file_ids\n",
    "    )\n",
    "\n",
    "def setup_assistant():\n",
    "    file_ids = upload_essay()\n",
    "    return create_assistant(file_ids)\n",
    "\n",
    "# WARNING\n",
    "# this deletes all files associated with your openai api key.\n",
    "#def cleanup_files():\n",
    "#    for f in client.files.list():\n",
    "#        client.files.delete(f.id)\n",
    "#        time.sleep(1)"
   ]
  },
  {
   "cell_type": "markdown",
   "metadata": {
    "id": "OppxdEXMHKD0"
   },
   "source": [
    "#### Testing"
   ]
  },
  {
   "cell_type": "code",
   "execution_count": 10,
   "metadata": {
    "id": "_htm-vGVHKD0"
   },
   "outputs": [],
   "source": [
    "client = OpenAI()\n",
    "assistant = setup_assistant()"
   ]
  },
  {
   "cell_type": "code",
   "execution_count": 11,
   "metadata": {
    "id": "GIvH8slVHKD1"
   },
   "outputs": [
    {
     "name": "stdout",
     "output_type": "stream",
     "text": [
      "According to Paul Graham, there are several key components necessary to create a technology hub:\n",
      "\n",
      "1. Attracting the \"Creative Class\": Cities will prosper if they attract creative individuals who generate wealth through ideas, a principle that was even evident in Amsterdam's prosperity 400 years ago. To attract the so-called \"creative class,\" towns must have personality, meaning they should feel distinctive and not mass-produced. This often includes well-preserved old neighborhoods, locally-owned shops and restaurants over national chains, and a general avoidance of large development projects that give a uniform appearance to the area【9†source】.\n",
      "\n",
      "2. A Place with the Right Personality: For technology hubs, it's crucial to attract a specific subset of the creative class—nerds. These individuals prefer towns with personality that cater to quieter pleasures, such as cafes, used bookshops, hiking, and sunlight. A place like Berkeley or Boulder would be considered ideal as they embody these qualities【9†source】.\n",
      "\n",
      "3. Youth Appeal: Graham underlines that young nerds, who often initiate startups, should find the city appealing. This does not necessarily require the city to be new, but it should feel young, often through a student population, and it should not have a large existing population of non-progressive or \"stodgy\" people that could impede growth and innovation【9†source】.\n",
      "\n",
      "4. An Intact Center: Cities with an intact central part, unlike those with growth in the suburbs, can more easily become startup hubs as young people typically do not want to live in the suburbs. An intact center offers the dynamism and interaction that startup cultures thrive on【9†source】.\n",
      "\n",
      "5. Proximity to a Great University: Having a great university near an attractive town can bring a critical mass of experts and fresh ideas—which is how the original Silicon Valley was formed around Palo Alto, Stanford University, and subsequent startups like Shockley Semiconductor and Fairchild Semiconductor【9†source】.\n",
      "\n",
      "6. Organic Growth: The development of a startup hub must be organic, as it relies on the expertise that can only be grown through the experiences of people actually working in or creating startups. Thus, such a hub requires time to grow, and the startup ecosystem must be self-sustaining, with businesses and investors continuing the cycle of funding and establishing new ventures【9†source】.\n",
      "\n",
      "These components encompass both the cultural and structural aspects of a city capable of nourishing a thriving technology hub.\n"
     ]
    }
   ],
   "source": [
    "benchmark_item = BenchmarkItem(\n",
    "    question=\"What key components are necessary to create a technology hub according to Paul Graham?\",\n",
    "    answer=\"\"\n",
    ")\n",
    "\n",
    "print(get_openai_rag_response(benchmark_item, assistant))"
   ]
  },
  {
   "cell_type": "markdown",
   "metadata": {
    "id": "n6831C1JHKD1"
   },
   "source": [
    "##### Run through all the questions"
   ]
  },
  {
   "cell_type": "code",
   "execution_count": 12,
   "metadata": {
    "colab": {
     "base_uri": "https://localhost:8080/"
    },
    "id": "Ui6tWclTHKD1",
    "outputId": "369d0322-25d5-409a-b408-8c6e055e7383"
   },
   "outputs": [
    {
     "name": "stderr",
     "output_type": "stream",
     "text": [
      "100%|███████████████████████████████████████████████████████████████████████████████████████████████████████████████████████████████████████████████████████████████████████████████████| 55/55 [27:01<00:00, 29.49s/it]\n"
     ]
    }
   ],
   "source": [
    "raw_openai_responses = []\n",
    "for x in tqdm(benchmark.items):\n",
    "    raw_openai_responses.append(get_openai_rag_response(x, assistant))"
   ]
  },
  {
   "cell_type": "code",
   "execution_count": 13,
   "metadata": {
    "id": "AQkJHWBmHKD2"
   },
   "outputs": [],
   "source": [
    "openai_responses = [\n",
    "    LLMResponse(\n",
    "        llm_answer=r, llm_context_list=[], benchmark_item=bi\n",
    "    ) for r, bi in zip(raw_openai_responses, benchmark.items)\n",
    "]"
   ]
  },
  {
   "cell_type": "code",
   "execution_count": 14,
   "metadata": {
    "id": "4hyOfpizHKD2"
   },
   "outputs": [],
   "source": [
    "scorer = ValidateScorer([AnswerSimilarityMetric()])\n",
    "openai_run = scorer.score_run(openai_responses, parallelism=5)"
   ]
  },
  {
   "cell_type": "code",
   "execution_count": 15,
   "metadata": {
    "id": "TK-JuvgfHKD2"
   },
   "outputs": [],
   "source": [
    "openai_run_df = run_to_dataframe(openai_run)\n",
    "openai_run_df.to_csv(\"openai_run.csv\", index=False)"
   ]
  },
  {
   "cell_type": "code",
   "execution_count": 16,
   "metadata": {
    "id": "wqz2640HHKD2"
   },
   "outputs": [
    {
     "data": {
      "image/png": "[encoded data removed]",
      "text/plain": [
       "<Figure size 640x480 with 1 Axes>"
      ]
     },
     "metadata": {},
     "output_type": "display_data"
    }
   ],
   "source": [
    "openai_answer_similarity_scores = pd.Series([x.scores[\"answer_similarity\"] for x in openai_run.run_data])\n",
    "category_counts = openai_answer_similarity_scores.value_counts()\n",
    "plt.bar(category_counts.index, category_counts.values)\n",
    "\n",
    "plt.title('Distribution of scores for OpenAI')\n",
    "plt.xlabel('Score')\n",
    "plt.ylabel('Count')\n",
    "\n",
    "plt.bar(category_counts.index, category_counts.values, color='#A679C8')\n",
    "\n",
    "# Remove all scores except whole numbers\n",
    "plt.xticks(range(0, 6, 1))\n",
    "\n",
    "plt.show()"
   ]
  },
  {
   "cell_type": "code",
   "execution_count": 17,
   "metadata": {
    "id": "Y0CBqhk7HKD2"
   },
   "outputs": [
    {
     "data": {
      "image/png": "[encoded data removed]",
      "text/plain": [
       "<Figure size 1000x500 with 1 Axes>"
      ]
     },
     "metadata": {},
     "output_type": "display_data"
    }
   ],
   "source": [
    "import matplotlib.pyplot as plt\n",
    "import numpy as np\n",
    "\n",
    "openai_run_df = pd.read_csv(\"openai_run.csv\")\n",
    "customgpt_run_df = pd.read_csv(\"customgpt_run.csv\")\n",
    "\n",
    "combined_scores = pd.DataFrame({\n",
    "    \"OpenAI\": list(openai_run_df[\"answer_similarity\"]),\n",
    "    \"CustomGPT\": list(customgpt_run_df[\"answer_similarity\"])\n",
    "})\n",
    "\n",
    "# Position of bars on x-axis\n",
    "ind = np.arange(6)\n",
    "\n",
    "# Figure size\n",
    "plt.figure(figsize=(10,5))\n",
    "\n",
    "# Width of a bar\n",
    "width = 0.3\n",
    "\n",
    "openai_counts = combined_scores[\"OpenAI\"].value_counts().reindex([0,1,2,3,4,5], fill_value=0)\n",
    "plt.bar(openai_counts.index, openai_counts.values, width, label=\"OpenAI\", color=\"#5EA7EC\")\n",
    "\n",
    "customgpt_counts = combined_scores[\"CustomGPT\"].value_counts().reindex([0,1,2,3,4,5], fill_value=0)\n",
    "plt.bar(customgpt_counts.index + width, customgpt_counts.values, width, label=\"CustomGPT\", color=\"#A679C8\")\n",
    "\n",
    "plt.title('Distribution of scores for OpenAI & CustomGPT')\n",
    "plt.xlabel('Answer Similarity Score')\n",
    "plt.ylabel('Count')\n",
    "\n",
    "# Remove all scores except whole numbers\n",
    "plt.xticks(ind + width / 2, range(0, 6, 1))\n",
    "\n",
    "plt.legend(loc='best')\n",
    "\n",
    "# Rounding the descriptive statistics to 3 significant figures\n",
    "statistics_df = combined_scores.describe()\n",
    "# Change 50% to 50% (median)\n",
    "statistics_df = statistics_df.rename(index={'50%': 'median'})\n",
    "rounded_statistics_df = statistics_df.round(3)\n",
    "\n",
    "# Transposing the descriptive statistics table for horizontal display\n",
    "rounded_statistics_df = rounded_statistics_df.T\n",
    "\n",
    "# Adding the table below the histogram\n",
    "table = plt.table(cellText=rounded_statistics_df.values,\n",
    "                  colWidths=[0.1] * len(rounded_statistics_df.columns),\n",
    "                  rowLabels=rounded_statistics_df.index,\n",
    "                  colLabels=rounded_statistics_df.columns,\n",
    "                  cellLoc = 'center', rowLoc = 'center',\n",
    "                  loc='bottom', bbox=[0.0, -0.5, 1.0, 0.3])\n",
    "\n",
    "plt.subplots_adjust(left=0.2, bottom=0.3)\n",
    "plt.savefig(\"openai_v_customgpt.png\", facecolor='white', bbox_inches='tight')\n",
    "\n",
    "plt.show()"
   ]
  },
  {
   "cell_type": "code",
   "execution_count": null,
   "metadata": {},
   "outputs": [],
   "source": []
  }
 ],
 "metadata": {
  "colab": {
   "provenance": []
  },
  "kernelspec": {
   "display_name": "Python (solar_env)",
   "language": "python",
   "name": "solar_env"
  },
  "language_info": {
   "codemirror_mode": {
    "name": "ipython",
    "version": 3
   },
   "file_extension": ".py",
   "mimetype": "text/x-python",
   "name": "python",
   "nbconvert_exporter": "python",
   "pygments_lexer": "ipython3",
   "version": "3.11.4"
  }
 },
 "nbformat": 4,
 "nbformat_minor": 4
}