{
 "cells": [
  {
   "cell_type": "markdown",
   "metadata": {
    "id": "T0o-4pVNHKDt"
   },
   "source": [
    "### Setup"
   ]
  },
  {
   "cell_type": "code",
   "execution_count": 1,
   "metadata": {
    "id": "g-z_1VNFHKDv"
   },
   "outputs": [],
   "source": [
    "from typing import List\n",
    "from openai import OpenAI\n",
    "from tonic_validate import ValidateScorer, Benchmark, BenchmarkItem, LLMResponse, BenchmarkItem, Run\n",
    "from tonic_validate.metrics import AnswerSimilarityMetric\n",
    "from concurrent.futures import ThreadPoolExecutor\n",
    "from tqdm import tqdm\n",
    "import os\n",
    "import time\n",
    "import json\n",
    "import pandas as pd\n",
    "import matplotlib.pyplot as plt\n",
    "\n",
    "# os.environ['OPENAI_API_KEY'] = \"YOUR_OPENAI_API_KEY\"\n",
    "\n",
    "\n",
    "with open(\"qa_pairs.json\", \"r\") as f:\n",
    "    qa_pairs = json.load(f)\n",
    "\n",
    "# for testing\n",
    "qa_pairs = qa_pairs\n",
    "\n",
    "benchmark = Benchmark(\n",
    "    questions=[x[\"question\"] for x in qa_pairs],\n",
    "    answers=[x[\"answer\"] for x in qa_pairs]\n",
    ")\n",
    "\n",
    "def run_to_dataframe(run: Run) -> pd.DataFrame:\n",
    "    return pd.DataFrame(\n",
    "        {\n",
    "            \"reference_question\": [x.reference_question for x in run.run_data],\n",
    "            \"reference_answer\": [x.reference_answer for x in run.run_data],\n",
    "            \"llm_answer\": [x.llm_answer for x in run.run_data],\n",
    "            \"llm_context\": [json.dumps(x.llm_context) for x in run.run_data],\n",
    "            \"answer_similarity\": [x.scores[\"answer_similarity\"] for x in run.run_data]\n",
    "        }\n",
    "    )"
   ]
  },
  {
   "cell_type": "markdown",
   "metadata": {
    "id": "OcsKPLRTHKDv"
   },
   "source": [
    "### Haystack"
   ]
  },
  {
   "cell_type": "markdown",
   "metadata": {
    "id": "OHxCvqIzHKDw"
   },
   "source": [
    "#### Setup"
   ]
  },
  {
   "cell_type": "code",
   "execution_count": 7,
   "metadata": {},
   "outputs": [],
   "source": [
    "from haystack import Pipeline, Document\n",
    "from haystack.document_stores.in_memory import InMemoryDocumentStore\n",
    "from haystack.components.retrievers.in_memory import InMemoryBM25Retriever\n",
    "from haystack.components.generators import OpenAIGenerator\n",
    "from haystack.components.builders.answer_builder import AnswerBuilder\n",
    "from haystack.components.builders.prompt_builder import PromptBuilder\n",
    "\n",
    "def get_haystack():\n",
    "    document_store = InMemoryDocumentStore()\n",
    "    prompt_template = \"\"\"\n",
    "    Given these documents, answer the question.\n",
    "    Documents:\n",
    "    {% for doc in documents %}\n",
    "        {{ doc.content }}\n",
    "    {% endfor %}\n",
    "    Question: {{question}}\n",
    "    Answer:\n",
    "    \"\"\"\n",
    "    # Add documents to document store\n",
    "    for doc in os.listdir(\"../paul_graham_essays\"):\n",
    "        with open(f\"../paul_graham_essays/{doc}\", \"r\") as f:\n",
    "            content = f.read()\n",
    "            document = Document(content=content)\n",
    "            document_store.write_documents([document])\n",
    "\n",
    "\n",
    "    retriever = InMemoryBM25Retriever(document_store=document_store, top_k=3)\n",
    "    prompt_builder = PromptBuilder(template=prompt_template)\n",
    "    llm = OpenAIGenerator(model=\"gpt-4-turbo-preview\")\n",
    "\n",
    "    rag_pipeline = Pipeline()\n",
    "    rag_pipeline.add_component(\"retriever\", retriever)\n",
    "    rag_pipeline.add_component(\"prompt_builder\", prompt_builder)\n",
    "    rag_pipeline.add_component(\"llm\", llm)\n",
    "    rag_pipeline.connect(\"retriever\", \"prompt_builder.documents\")\n",
    "    rag_pipeline.connect(\"prompt_builder\", \"llm\")\n",
    "    return rag_pipeline"
   ]
  },
  {
   "cell_type": "code",
   "execution_count": 8,
   "metadata": {},
   "outputs": [],
   "source": [
    "haystack_pipeline = get_haystack()"
   ]
  },
  {
   "cell_type": "code",
   "execution_count": 9,
   "metadata": {},
   "outputs": [],
   "source": [
    "def get_haystack_response(query):\n",
    "    haystack_response = haystack_pipeline.run(\n",
    "        {\n",
    "            \"retriever\": {\"query\": query},\n",
    "            \"prompt_builder\": {\"question\": query},\n",
    "        }\n",
    "    )\n",
    "    return haystack_response['llm']['replies'][0]"
   ]
  },
  {
   "cell_type": "markdown",
   "metadata": {
    "id": "_7y3BWAlHKDw"
   },
   "source": [
    "#### Testing"
   ]
  },
  {
   "cell_type": "code",
   "execution_count": 10,
   "metadata": {
    "id": "S9dFrO85HKDw"
   },
   "outputs": [
    {
     "name": "stderr",
     "output_type": "stream",
     "text": [
      "Ranking by BM25...: 100%|██████████| 212/212 [00:00<00:00, 2287.18 docs/s]\n"
     ]
    },
    {
     "name": "stdout",
     "output_type": "stream",
     "text": [
      "According to Paul Graham, creating a technology hub requires the following key components:\n",
      "\n",
      "1. The Right People: The presence of the right people is crucial for creating a technology hub. Graham emphasizes that you need a critical mass of both rich people (investors) and nerds (innovators and technical talent). These are the limiting reagents in the reaction that produces startups because they're present at the inception of startups. Other necessary elements and individuals will gravitate towards a hub once these essential groups are present.\n",
      "\n",
      "2. Universities: Graham highlights the indispensable role of top-tier universities in creating a technology hub. Universities act as magnets, drawing the best and brightest minds from all over, which in turn, attracts more talent and resources. The innovation and ideas generated in this academic environment feed into the startup ecosystem.\n",
      "\n",
      "3. Personality and Quality of Life: A city or area needs a certain personality to attract and retain the creative and innovative people who drive a technology hub. This includes having an attractive environment with a mix of well-preserved old neighborhoods, density, and locally-owned shops, as opposed to cookie-cutter suburbs and national chains. Essentially, creating a place where smart people want to live and work is key.\n",
      "\n",
      "4. Independent-Mindedness and Curiosity: Although more of an intangible cultural aspect, Graham argues that a culture that fosters independent thinking and curiosity is essential for a tech hub. This encompasses encouraging skepticism, indulging curiosity to fuel more questions and novel ideas, and having a positive force that delights in ideas that subvert conventional wisdom. A community that supports such an intellectual environment is more likely to innovate and create valuable startups.\n",
      "\n",
      "5. Avoiding Large Scale Developments: Graham suggests that to make a town attractive to the \"creative class,\" it's necessary to ensure that development projects do not obliterate the city's personality. He argues for building codes that ensure density and a ban on large-scale developments that can make a town feel mass-produced. This helps in maintaining an environment that innovators find appealing.\n",
      "\n",
      "6. Time: Graham acknowledges that growing a silicon valley requires time because the startup community around a university has to grow organically. The implication is that patience and sustained effort are necessary components for fostering a vibrant technology ecosystem.\n",
      "\n",
      "These components suggest that creating a technology hub involves a combination of the right people, institutions, cultural mindset, urban planning, and time.\n"
     ]
    }
   ],
   "source": [
    "\n",
    "benchmark_item = BenchmarkItem(\n",
    "    question=\"What key components are necessary to create a technology hub according to Paul Graham?\",\n",
    "    answer=\"\"\n",
    ")\n",
    "\n",
    "print(get_haystack_response(benchmark_item.question))"
   ]
  },
  {
   "cell_type": "markdown",
   "metadata": {
    "id": "aU3dDuRCHKDx"
   },
   "source": [
    "##### Run through all the questions"
   ]
  },
  {
   "cell_type": "code",
   "execution_count": 11,
   "metadata": {
    "id": "HS_HHmByHKDx"
   },
   "outputs": [
    {
     "name": "stderr",
     "output_type": "stream",
     "text": [
      "  0%|          | 0/25 [00:00<?, ?it/s]"
     ]
    },
    {
     "name": "stderr",
     "output_type": "stream",
     "text": [
      "Ranking by BM25...: 100%|██████████| 212/212 [00:00<00:00, 2256.54 docs/s]\n",
      "Ranking by BM25...: 100%|██████████| 212/212 [00:00<00:00, 2393.56 docs/s]\n",
      "Ranking by BM25...: 100%|██████████| 212/212 [00:00<00:00, 1956.47 docs/s]\n",
      "Ranking by BM25...: 100%|██████████| 212/212 [00:00<00:00, 2185.42 docs/s]\n",
      "Ranking by BM25...: 100%|██████████| 212/212 [00:00<00:00, 2343.37 docs/s]\n",
      "Ranking by BM25...: 100%|██████████| 212/212 [00:00<00:00, 2433.34 docs/s]\n",
      "Ranking by BM25...: 100%|██████████| 212/212 [00:00<00:00, 2416.45 docs/s]\n",
      "Ranking by BM25...: 100%|██████████| 212/212 [00:00<00:00, 2405.26 docs/s]\n",
      "Ranking by BM25...: 100%|██████████| 212/212 [00:00<00:00, 2416.16 docs/s]\n",
      "Ranking by BM25...: 100%|██████████| 212/212 [00:00<00:00, 2147.62 docs/s]\n",
      "Ranking by BM25...: 100%|██████████| 212/212 [00:00<00:00, 2363.20 docs/s]\n",
      "Ranking by BM25...: 100%|██████████| 212/212 [00:00<00:00, 2478.30 docs/s]\n",
      "Ranking by BM25...: 100%|██████████| 212/212 [00:00<00:00, 2441.68 docs/s]\n",
      "Ranking by BM25...: 100%|██████████| 212/212 [00:00<00:00, 2386.19 docs/s]\n",
      "Ranking by BM25...: 100%|██████████| 212/212 [00:00<00:00, 2429.91 docs/s]\n",
      "Ranking by BM25...: 100%|██████████| 212/212 [00:00<00:00, 2227.11 docs/s]\n",
      "Ranking by BM25...: 100%|██████████| 212/212 [00:00<00:00, 2354.67 docs/s]\n",
      "Ranking by BM25...: 100%|██████████| 212/212 [00:00<00:00, 2125.89 docs/s]\n",
      "Ranking by BM25...: 100%|██████████| 212/212 [00:00<00:00, 1253.65 docs/s]\n",
      "Ranking by BM25...: 100%|██████████| 212/212 [00:00<00:00, 2294.45 docs/s]\n",
      "Ranking by BM25...: 100%|██████████| 212/212 [00:00<00:00, 1509.94 docs/s]\n",
      "Ranking by BM25...: 100%|██████████| 212/212 [00:00<00:00, 2263.61 docs/s]\n",
      "Ranking by BM25...: 100%|██████████| 212/212 [00:00<00:00, 2311.19 docs/s]\n",
      "Ranking by BM25...: 100%|██████████| 212/212 [00:00<00:00, 2211.80 docs/s]\n",
      "Ranking by BM25...: 100%|██████████| 212/212 [00:00<00:00, 2276.58 docs/s]\n",
      "100%|██████████| 25/25 [04:46<00:00, 11.47s/it]\n"
     ]
    }
   ],
   "source": [
    "raw_customgpt_responses = []\n",
    "for x in tqdm(benchmark.items):\n",
    "    raw_customgpt_responses.append(get_haystack_response(x.question))\n"
   ]
  },
  {
   "cell_type": "code",
   "execution_count": 12,
   "metadata": {
    "id": "oosHPNIeHKDy"
   },
   "outputs": [],
   "source": [
    "customgpt_responses = [\n",
    "    LLMResponse(\n",
    "        llm_answer=r, llm_context_list=[], benchmark_item=bi\n",
    "    ) for r, bi in zip(raw_customgpt_responses, benchmark.items)\n",
    "]"
   ]
  },
  {
   "cell_type": "code",
   "execution_count": 13,
   "metadata": {
    "id": "hKtK4EY9HKDy"
   },
   "outputs": [
    {
     "name": "stderr",
     "output_type": "stream",
     "text": [
      "Scoring responses: 100%|██████████| 25/25 [00:03<00:00,  6.65it/s]\n"
     ]
    }
   ],
   "source": [
    "scorer = ValidateScorer([AnswerSimilarityMetric()])\n",
    "customgpt_run = scorer.score_run(customgpt_responses)"
   ]
  },
  {
   "cell_type": "code",
   "execution_count": 29,
   "metadata": {
    "id": "jaPFJkngHKDy"
   },
   "outputs": [],
   "source": [
    "customgpt_run_df = run_to_dataframe(customgpt_run)\n",
    "customgpt_run_df.to_csv(\"customgpt_run.csv\", index=False)"
   ]
  },
  {
   "cell_type": "code",
   "execution_count": 33,
   "metadata": {},
   "outputs": [
    {
     "data": {
      "text/plain": [
       "Run(overall_scores={'answer_similarity': 4.84}, run_data=[RunData(scores={'answer_similarity': 5.0}, reference_question=\"What realization did Paul Graham have about the value of reading books, even if he doesn't remember their details?\", reference_answer=\"Paul Graham realized that the true value of reading books isn't necessarily in remembering all the details but in how those readings shape and train his mental model of the world. Even if the specific knowledge is forgotten over time, its impact on his understanding and perspective remains, enhancing his cognition and worldview. This insight helped him appreciate the enduring worth of reading beyond the immediate recall of facts.\", llm_answer=\"Paul Graham realized that the value of reading books isn't diminished even if he doesn't remember their details because reading and experience shape his model of the world. Even if he forgets the specifics, the effect on his worldview persists. This realization helped him understand that the knowledge and insights gained from books integrate into his understanding and thinking, influencing how he approaches problems and ideas, even without conscious recall of the source material. This insight made him reconsider the importance of re-reading books and the continuous learning from experiences, as these contribute to an ever-evolving understanding of the world, much like compiled code that works without knowing why.\", llm_context=[]), RunData(scores={'answer_similarity': 5.0}, reference_question='Why does the author believe Twitter is considered a significant innovation? ', reference_answer='The author believes Twitter is considered a significant innovation because it introduces a new messaging protocol where recipients are not pre-specified, which is a rarity among protocols, especially those that gain widespread use. Moreover, the fact that Twitter is owned by a private company, yet has not been heavily monetized early on, has allowed it to feel more like a universal protocol rather than a controlled service, facilitating its widespread adoption.', llm_answer=\"The author believes Twitter is considered a significant innovation because it introduces a new messaging protocol where the recipients aren't specified. This approach to messaging is rare, and given that new protocols which gain widespread adoption are uncommon, any addition to the list of commonly used protocols, like TCP/IP, SMTP, and HTTP, is considered a big deal. Furthermore, the fact that Twitter is owned by a private company yet has not been heavily monetized early on, allowing it to feel more like the open protocols that preceded it, adds to its significance and might have facilitated its widespread adoption.\", llm_context=[]), RunData(scores={'answer_similarity': 5.0}, reference_question='What distinguishes an intentional moderate from an accidental moderate in political views according to Paul Graham?', reference_answer='An intentional moderate chooses a position mid-way between extremes intentionally, often having opinions near the center for every issue, whereas an accidental moderate forms opinions independently on various matters, leading their viewpoints to scatter across a broad range but average in the middle. Accidental moderates choose their own answers and questions, not strictly adhering to the established importance of issues by the left or right.', llm_answer='According to Paul Graham, what distinguishes an intentional moderate from an accidental moderate in political views is their method of forming opinions and the distribution of these opinions. An intentional moderate deliberately chooses a position that is midway between the extremes of the right and left. Their opinions on various matters would consistently be near the midpoint of the ideological spectrum, aiming for a balanced perspective across all issues. On the other hand, an accidental moderate ends up in the middle on average because they form their own opinions on each question independently, without intentionally seeking a moderate stance. Their opinions are scattered over a broad range, not consistently aiming for the middle but averaging to a moderate stance because they think independently about each issue. In essence, intentional moderates form their views by seeking a middle ground, while accidental moderates’ views result from independently assessing each issue without aiming to be moderate.', llm_context=[]), RunData(scores={'answer_similarity': 5.0}, reference_question='What is the purpose of the patent pledge proposed by Paul Graham?', reference_answer='The purpose of the patent pledge proposed by Paul Graham is to decrease the misuse of patents by established companies with bad products who use patents to suppress small competitors with good products, without having to go through government-led patent reform. The pledge encourages technology companies not to initiate the use of software patents against companies with fewer than 25 people, aiming to foster innovation and deter companies from competing through litigation rather than by developing and improving products.', llm_answer='The purpose of the patent pledge proposed by Paul Graham is to address part of the patent problem without waiting for government intervention, specifically by reducing the misuse of patents in a way that hinders innovation. The pledge is aimed at established companies with larger resources that might use patents to suppress smaller competitors, especially startups, by making a public commitment not to engage in such behavior. The pledge is specifically meant to deter the use of software patents as a means to litigate against companies with fewer than 25 people. By adhering to this pledge, companies commit to competing on the basis of making good products rather than through litigation, and it also makes companies that refuse to make such a pledge stand out negatively to potential employees and investors. This move is intended to foster an environment where innovation is encouraged, and smaller companies are protected from being unfairly targeted by larger companies wielding patents.', llm_context=[]), RunData(scores={'answer_similarity': 5.0}, reference_question='What main advantage does Paul Graham identify in using the list of n things format for essays, especially for beginning writers?', reference_answer=\"Paul Graham identifies that the main advantage of using the list of n things format for essays is its simplicity and structure, which makes it a good starting point for beginning writers. It offers a clear, straightforward structure by presenting a collection of points of roughly equal importance, thus limiting the damage a bad writer can do and providing a form that is easier to follow and understand for both the writer and the reader. This format also helps in managing writer's block and simplifies the process of essay writing by making it more approachable for novices.\", llm_answer='The main advantage Paul Graham identifies in using the list of n things format for essays, especially for beginning writers, is its simplicity and structured format. He compares it to various forms of creation where a working version is quickly developed and then refined over time, such as in programming or painting. This format is particularly friendly because it sets a clear structure from the start, which can then be filled in gradually. For beginning writers, it significantly reduces the complexity of essay writing by providing a clear, manageable template that limits the potential for wandering off topic or getting lost in their own arguments. Additionally, Graham suggests that this format can be less intimidating and more approachable for readers, who can digest the content in more manageable pieces, making it a win-win approach for both writers and their audience.', llm_context=[]), RunData(scores={'answer_similarity': 5.0}, reference_question='What are the three components of independent-mindedness as described by Paul Graham in \"How to Think for Yourself\"?', reference_answer='The three components of independent-mindedness described by Paul Graham are fastidiousness about truth, resistance to being told what to think, and curiosity.', llm_answer='The three components of independent-mindedness as described by Paul Graham in \"How to Think for Yourself\" are:\\n\\n1. Fastidiousness about truth\\n2. Resistance to being told what to think\\n3. Curiosity', llm_context=[]), RunData(scores={'answer_similarity': 5.0}, reference_question=\"How does Paul Graham compare the RIAA and MPAA's accusations of stealing music and movies to a historical anecdote?\", reference_answer=\"Paul Graham compares the RIAA and MPAA's accusations of stealing music and movies to a story about Ooka Tadasuke, a judge in eighteenth-century Japan, where a food shop owner wanted a poor student to pay for enjoying the smell of his food. Graham suggests that treating smells or, by extension, digital content as traditional physical property might not always be appropriate or feasible, likening it to the absurdity of paying for smells. This comparison highlights the challenges in defining what constitutes property in the digital age.\", llm_answer='Paul Graham compares the RIAA and MPAA\\'s accusations of stealing music and movies to a historical anecdote about a poor student enjoying the smells of food from a shop without buying anything. In the story, the shop owner accused the student of stealing his smells. Graham finds this accusation as absurd as treating smells as property, much like how it seems ridiculous to him that the RIAA and MPAA treat consuming digital content without paying as theft. He uses this comparison to highlight the changing nature of what is considered \"property\" and implies that content, like smells, may not always work as a property in the traditional sense, especially in the context of digital media and the internet.', llm_context=[]), RunData(scores={'answer_similarity': 5.0}, reference_question='Why does Paul Graham argue that the concept of \"taste is subjective\" is not accurate, especially in the context of art?', reference_answer='Paul Graham argues that the concept of \"taste is subjective\" is not accurate in the context of art because if taste were purely subjective, it would imply there is no such thing as good art or good taste. He explains that good art has an objective element since it succeeds in engaging its human audience, and humans have a lot in common regarding what engages them. Therefore, good taste can be seen as the ability to recognize art that effectively interests its intended audience, challenging the idea that all preferences are equally valid without a basis for comparison.', llm_answer='Paul Graham argues that the concept of \"taste is subjective\" is not accurate, especially in the context of art, for several reasons. First, he notes that as individuals engage in creative work or strive to improve in their respective fields, they develop an understanding that certain works are objectively better than others. This realization undermines the notion that taste is purely subjective since it suggests that there are standards by which art can be judged.\\n\\nGraham points out that dismissing taste as merely personal preference prevents people from acknowledging the existence of good and bad design. This view hampers progress in any artistic field because it implies that striving for improvement or excellence is meaningless. He insists that those who produce art naturally want to improve their work, which inherently requires some objective criteria for judgment.\\n\\nFurthermore, Graham draws on his experiences and observations across various disciplines to emphasize that common principles of good design emerge regardless of the medium. For example, good design is often simple, solves the right problem, has longevity, and resonates with human nature, suggesting that there are indeed objective attributes that contribute to what is considered good art or design.\\n\\nGraham also introduces the idea that while individual preferences and interpretations of art vary, there is a collective human reaction to certain works that can be appreciated across different cultures and time periods. This universality challenges the idea that taste is entirely subjective, as it demonstrates that certain artistic qualities have broad appeal and effectiveness.\\n\\nBy arguing that acknowledging and striving for good art (defined by certain objective standards) enables artists to make better work, Graham ultimately challenges the relativism that claims \"taste is subjective\" and posits that recognizing the existence of good and bad taste is crucial for artistic growth and innovation.', llm_context=[]), RunData(scores={'answer_similarity': 5.0}, reference_question='According to Paul Graham, why should programmers consider learning \"weird\" programming languages?', reference_answer='According to Paul Graham, programmers should consider learning \"weird\" programming languages because they offer opportunities to learn and explore techniques and concepts that go beyond conventional programming, such as the gluing together of library calls. Weird languages, especially the good ones, often introduce programming paradigms that are not found in the intersection of popular languages, like Lisp macros, which enable problem-solving by creating a language for a specific type of problems before writing the application. Learning these languages can expand a programmer\\'s concept of what programming can be and enhance their ability to think in new ways.', llm_answer='According to Paul Graham, programmers should consider learning \"weird\" programming languages because these languages often introduce concepts and techniques that go beyond conventional programming practices. Weird languages tend to imply the existence of forms of programming that aren\\'t just about gluing together library calls. For example, Lisp macros offer a way to solve problems by first creating a language specific to a type of problem and then writing the application within that language. This is just one example in a space of program-manipulating techniques that is far from fully explored. Learning weird languages can expand a programmer\\'s concept of what programming can be, helping them learn to say and think things that they couldn\\'t before due to the limitations of more familiar languages.', llm_context=[]), RunData(scores={'answer_similarity': 5.0}, reference_question='What does Paul Graham argue is the main reason for variation in income, according to his essay \"Mind the Gap\"?', reference_answer='Paul Graham argues that the main reason for variation in income is the same as the root cause of variation in every other human skill, suggesting that people who create more wealth are usually better at doing what other people want.', llm_answer=\"Paul Graham argues that the main reason for variation in income is the difference in people's ability to create wealth, which he views as a specialized skill like playing chess, painting, or writing novels. He believes that making money is a very specific talent and that those who are the best at it tend to be far better than everyone else, leading to significant variations in income. Graham suggests that this pattern of variation is no different than for any other skill, and he questions why society accepts vast differences in ability and compensation in other areas but reacts strongly against similar variations when it comes to making money.\", llm_context=[]), RunData(scores={'answer_similarity': 5.0}, reference_question='How does Paul Graham describe the nature of startup investing in \"Black Swan Farming\"?', reference_answer=\"Paul Graham describes startup investing as highly counterintuitive, emphasizing that nearly all returns are concentrated in a few big winners and that the best startup ideas often initially seem like bad ideas. He shares his experience with Y Combinator (YC) to illustrate how a small number of companies, like Dropbox and Airbnb, can account for a disproportionate share of the total value of all companies funded by YC. Graham explains that the extreme variation in startup success rates makes startup investing unpredictable and challenges conventional expectations. He also remarks on the difficulty of recognizing potentially huge successes since they typically don't seem promising at first glance.\", llm_answer='Paul Graham describes the nature of startup investing in \"Black Swan Farming\" as highly counterintuitive and concentrated in terms of returns. He outlines two crucial points: \\n\\n1) Nearly all the returns in startup investing come from a very small number of big winners. He notes the significant variance in startup success, with the biggest hits yielding returns that vastly outweigh the total value of many other investments combined. For example, he points out that just two companies, Dropbox and Airbnb, account for about three-quarters of the total value of companies Y Combinator funded up to that time.\\n\\n2) The best startup ideas often initially appear to be bad ideas. Graham argues that if a startup idea was obviously good, someone else would have already pursued it. Thus, many successful founders work on ideas that few others recognize as valuable. He explains that the difficulty in startup investing lies in identifying these potentially huge but non-obvious opportunities, which is made challenging by the often counterintuitive nature of big winners in the startup world.\\n\\nOverall, he emphasizes the necessity of being able to go against one\\'s instincts and to be prepared to take significant risks on ideas that seem unlikely to succeed based on conventional wisdom. The piece conveys that success in startup investing relies on identifying and supporting exceptional outliers that possess the potential for extraordinary growth, despite their initial appearances.', llm_context=[]), RunData(scores={'answer_similarity': 5.0}, reference_question='What significant concept introduced by Richard Dawkins does Paul Graham mention in his discussion on viewing humanity from a broader perspective?', reference_answer='Paul Graham mentions the significant concept of the \"selfish gene\" introduced by Richard Dawkins as a step towards viewing humanity from a broader perspective.', llm_answer='The significant concept introduced by Richard Dawkins that Paul Graham mentions in his discussion on viewing humanity from a broader perspective is the idea of the \"selfish gene.\"', llm_context=[]), RunData(scores={'answer_similarity': 5.0}, reference_question='What strategy did Paul Graham find effective in reducing internet distractions while working? ', reference_answer='Paul Graham found it effective to use a separate computer for internet activities, keeping his main computer disconnected from the internet except for specific tasks like transferring files or editing web pages. This physical separation made him more aware of the time he spent online and significantly reduced his internet distractions, allowing his main computer to be solely dedicated to work.', llm_answer='Paul Graham found it effective to set up a separate computer exclusively for using the Internet. He kept Wi-Fi turned off on his main work computer, except when needing to transfer files or edit a web page, and used a different laptop placed on the other side of the room for checking emails or browsing the web. This arrangement made him much more aware of the time he spent online, significantly reducing his internet distractions while working.', llm_context=[]), RunData(scores={'answer_similarity': 5.0}, reference_question='What is the main difference between a fanboy and a hater as described by Paul Graham in his essay \"Haters\"?', reference_answer='The main difference between a fanboy and a hater, as described by Paul Graham in his essay \"Haters,\" is that a fanboy is obsessively and uncritically supportive, seeing everything the famous person does as good, while a hater is obsessively and uncritically negative, viewing everything the famous person does as bad.', llm_answer='The main difference between a fanboy and a hater, as described by Paul Graham in his essay \"Haters,\" lies in their attitudes towards the subject of their obsession. A fanboy is described as obsessive and uncritical in their admiration, where liking the subject becomes part of their identity, and they view everything the subject does as good simply because the subject does it. On the other hand, a hater is described as obsessive and uncritical in their dislike, where disliking the subject becomes part of their identity, and they perceive everything the subject does as bad simply because the subject does it. Essentially, while both share a level of obsession and distorted perception of their target, the fanboy\\'s obsession manifests in excessive admiration, whereas the hater\\'s obsession manifests in excessive dislike.', llm_context=[]), RunData(scores={'answer_similarity': 5.0}, reference_question='What method does Paul Graham suggest for ensuring the truthfulness and novelty of the ideas in an essay?', reference_answer=\"Paul Graham suggests a method learned from his friend Robert Morris, which is not to say anything unless he's sure it's worth hearing. This approach involves deleting bad sentences, abandoning whole paragraphs or even entire essays if they do not meet the standards of good ideas, and only publishing content that is assuredly good, thus ensuring the truthfulness and novelty of the ideas presented.\", llm_answer='Paul Graham suggests a method that essentially acts as a form of self-censorship or selective publication bias to ensure the truthfulness and novelty of the ideas in an essay. He advises writers to adopt a rigorous approach of writing and revising, where any idea, sentence, or concept that doesn\\'t meet the standards of being both novel and true is either revised until it does or removed altogether. This involves initially writing a draft with various ideas, then meticulously going through it, deleting parts that are not sufficiently unique or accurate, and refining the essay through multiple revisions. Graham emphasizes the importance of skepticism and self-questioning, advising writers to constantly ask themselves \"Is that true?\" about the claims they make. He also highlights the necessity of basing essays on topics the writer is genuinely curious about, which leads to the uncovering of novel insights. Essentially, Graham suggests ensuring novelty and truthfulness by not publishing anything that doesn\\'t pass rigorous personal scrutiny and by leveraging one\\'s own curiosity and areas of interest as fertile ground for genuinely new ideas.', llm_context=[]), RunData(scores={'answer_similarity': 5.0}, reference_question=\"What is the primary mechanism by which Paul Graham's proposed auto-retrieving spam filters are intended to combat spam, according to the text?\", reference_answer=\"The primary mechanism by which Paul Graham's proposed auto-retrieving spam filters intend to combat spam is by significantly increasing the spammers' costs and reducing their sales. This is achieved by auto-retrieving every URL found in suspected spam emails, which would in turn increase the bandwidth usage of the spammers' servers to unsustainable levels, potentially causing their servers to crash under the load. This increased load would make the servers unavailable to potential customers, therefore mitigating the effectiveness of the spam.\", llm_answer=\"The primary mechanism by which Paul Graham's proposed auto-retrieving spam filters are intended to combat spam, according to the text, is by driving up the spammer's costs and driving down their sales. This is achieved by the filters automatically retrieving (visiting) URLs found in suspected spam emails. As a result, the spammer's servers would experience a significant increase in bandwidth usage and processing load, potentially grinding their operations to a halt. This auto-retrieval process would make their servers less available to potential customers, thereby harming the spammer's ability to effectively market or communicate their spam content.\", llm_context=[]), RunData(scores={'answer_similarity': 5.0}, reference_question='What does Paul Graham identify as the most damaging thing learned in school, and how did it affect him personally?', reference_answer='Paul Graham identifies learning to get good grades as the most damaging thing learned in school. This emphasis on grades dominated his actual learning experience in college, leading him to work hardest when studying for tests, despite genuinely being interested in his classes and working hard overall.', llm_answer='Paul Graham identifies the most damaging thing learned in school as the focus on getting good grades. He personally was affected by this focus because it dominated his actual learning in college. Despite being genuinely interested in most of his classes and working hard, Graham admits that he worked hardest when studying for a test. This focus on grades led to a situation where practical learning took a backseat to optimizing performance on exams and assignments, which often did not accurately measure understanding or the ability to apply knowledge creatively.', llm_context=[]), RunData(scores={'answer_similarity': 5.0}, reference_question=\"What is the core issue Paul Graham identifies with Apple's App Store approval process as of November 2009?\", reference_answer=\"The core issue Paul Graham identifies with Apple's App Store approval process is that it is broken and significantly damages Apple's reputation among programmers. He argues that Apple treats software too much like music or books, not recognizing that software's complexity and the need for continual updates make it ill-suited for such a tightly controlled distribution model. This leads to long, random delays for app updates, resulting in the App Store being filled with outdated and buggy versions, which frustrates both developers and users.\", llm_answer='The core issue Paul Graham identifies with Apple\\'s App Store approval process as of November 2009 is that it is broken and harmful to Apple\\'s reputation with programmers. He criticizes the approval process for being a significant barrier to software development and evolution, mainly because of long, unpredictable delays in approving new versions of apps. This obstructs the standard development strategy of launching fast and iterating, which is crucial for the evolution of software. Graham likens the situation to a \"karma leak\" for Apple, suggesting that the company is losing goodwill among programmers, potentially a third to half of it so far. He argues that Apple\\'s fundamental misunderstanding of software, treating apps like music sold through iTunes, and their attempt to act as an overreaching software publisher are at the heart of the problem.', llm_context=[]), RunData(scores={'answer_similarity': 5.0}, reference_question='What are the key factors identified by Paul Graham that contribute to the success of startups in America?', reference_answer=\"Paul Graham identifies several key factors contributing to the success of startups in America, including the country's openness to immigration, its wealth and infrastructure, the absence of a police state, the quality of American universities, flexible employment laws that allow for easy hiring and firing, an economic model where work is less identified with employment, a less fussy regulatory environment for small businesses, a large domestic market, availability of venture funding, and a dynamic approach to career development.\", llm_answer=\"Paul Graham identifies several key factors that contribute to the success of startups in America, including:\\n\\n1. **Immigration Policies:** The U.S. allows for the immigration of smart, ambitious people, which fosters a diverse and talented workforce crucial for innovation and startup growth.\\n\\n2. **Economic Wealth:** As a rich country, the U.S. has the necessary resources and consumer base that startups need to thrive.\\n\\n3. **Freedom from Excessive Government Control:** The relative absence of a police state in the U.S. encourages the free exchange of ideas and criticism, essential for creativity and innovation.\\n\\n4. **Superior Universities:** America is home to many of the world's top universities, particularly in technology, which act as a catalyst for innovation and startup formation.\\n\\n5. **Flexible Employment Laws:** The U.S. employment laws allow for the easier hiring and firing of employees, benefiting startups that require a dynamic and efficient workforce.\\n\\n6. **Cultural Attitudes towards Work:** American culture is more accepting of career changes and risks, supporting the entrepreneurial mindset necessitated by startups.\\n\\n7. **Less Bureaucratic Hurdles for Starting a Business:** America offers a relatively streamlined process for starting a business, with fewer regulatory impediments compared to many other countries.\\n\\n8. **Large Domestic Market:** The extensive American market provides a significant customer base for startups to target initially, aiding in their growth and development.\\n\\n9. **Availability of Venture Funding:** The U.S. has a vibrant venture capital ecosystem, with plentiful funding opportunities for startups from both institutional investors and individual angel investors.\\n\\n10. **Dynamic Career Paths:** The U.S. education and career system is more flexible, allowing individuals to explore various paths before settling on starting or joining a startup, which fosters a broader base of potential entrepreneurs.\\n\\nThese factors, among others, create an environment in the U.S. that is highly conducive to the growth and success of startups, facilitating innovation and helping the U.S. maintain its position as a global leader in technology and entrepreneurship.\", llm_context=[]), RunData(scores={'answer_similarity': 5.0}, reference_question='What is the main reason Paul Graham dislikes the term \"computer science\"? ', reference_answer='Paul Graham dislikes the term \"computer science\" primarily because he believes there is no such thing, describing it as a grab bag of tenuously related areas grouped together by an accident of history. He also criticizes the blending of distinct disciplines such as mathematics, natural history of computers, and hacking under this umbrella, which he finds intellectually confusing.', llm_answer='The main reason Paul Graham dislikes the term \"computer science\" is that he believes there\\'s no such thing as computer science. He views computer science as a grab bag of tenuously related areas thrown together by an accident of history, rather than a cohesive field of study. He further explains that the term is misleading, as it includes a wide range of activities from theoretical work that resembles mathematics to applied work of writing software, which doesn\\'t necessarily adhere to the scientific method of empirical research and hypothesis testing.', llm_context=[]), RunData(scores={'answer_similarity': 5.0}, reference_question='Who are considered accredited investors according to the SEC, and why is it important for a startup to have accredited investors? ', reference_answer='The SEC defines an \"accredited investor\" as someone with over a million dollars in liquid assets or an income of over $200,000 a year. It is important for a startup to have accredited investors because the regulatory burden is much lower if a company\\'s shareholders are all accredited investors. Once a startup takes money from the general public, they are more restricted in what they can do, and having non-accredited investors could complicate the startup\\'s life legally, potentially affecting actions like an IPO due to the need for immediate action to cure any past violations of securities laws.', llm_answer='According to the SEC (U.S. Securities and Exchange Commission), an \"accredited investor\" is someone who meets certain financial criteria demonstrating their financial sophistication and capability to bear the risk of investing in unregistered securities. As of the context of the information available up to 2023, an individual accredited investor is typically defined as someone with an annual income exceeding $200,000 (or $300,000 together with a spouse) for the past two years, with the expectation of earning the same or higher income in the current year, or someone with a net worth exceeding $1 million, either alone or together with a spouse, excluding the value of the primary residence.\\n\\nIt is important for a startup to have accredited investors for several reasons:\\n\\n1. **Regulatory Compliance**: The SEC imposes certain restrictions on the offering of securities to non-accredited investors, primarily to protect people who may not have the financial stability or investment experience to handle potential losses. By focusing on accredited investors, startups can navigate these regulations more easily and avoid potential legal troubles that could arise from selling securities to non-accredited individuals.\\n\\n2. **Investment Readiness**: Accredited investors are presumed to have the necessary financial acumen and ability to assess and bear investment risks. This means they are more likely to understand the inherent risks of investing in early-stage companies, making them more suitable candidates for startup investments.\\n\\n3. **Fundraising Efficiency**: Targeting accredited investors can lead to more efficient fundraising processes since these investors typically have more capital to invest and are used to the investment process. This can speed up the time it takes for a startup to secure the funding it needs.\\n\\n4. **Future Funding Rounds**: Having accredited investors may make it easier to attract additional investments in the future. Their involvement can serve as a signal of credibility and potential to other investors evaluating the startup in subsequent funding rounds.\\n\\n5. **Legal and Financial Stability**: Startups with accredited investors may face fewer issues related to investor dissatisfaction or financial instability among their shareholder base, as accredited investors are more likely to be in a position to absorb the loss of their investment without facing significant financial hardship.\\n\\nIn summary, working with accredited investors can provide significant advantages for startups, from ensuring regulatory compliance and investment readiness to enhancing fundraising efficiency and future growth prospects.', llm_context=[]), RunData(scores={'answer_similarity': 5.0}, reference_question=\"What reasons did Paul Graham identify for hackers' renewed interest in Mac computers by 2005?\", reference_answer=\"Paul Graham identified several reasons for hackers' renewed interest in Mac computers by 2005, including the introduction of OS X, which runs FreeBSD and is noted for its powerful capabilities and beautiful design. The shift back to Macs was not only due to their technical specifications but also their aesthetic appeal and the allure of well-designed hardware, reflecting a return to values that aligned with the canonical hacker's computer of the past. This trend indicated a broader acceptance of Macs among hardcore OS hackers and tech enthusiasts who prioritize both form and function in their computing devices.\", llm_answer='Paul Graham identified several reasons for hackers\\' renewed interest in Mac computers by 2005:\\n\\n1. **OS X**: The primary reason cited is the operating system, OS X, which earned high regard among hackers.\\n2. **Unix-Based System**: OS X\\'s appeal was significantly heightened by its Unix basis, as it runs FreeBSD under its beautifully designed interface. This Unix foundation was particularly attractive to hardcore OS hackers who value the system\\'s power and flexibility.\\n3. **Design and Aesthetics**: Paul Graham emphasizes the importance of design in the renewed interest in Macs among hackers. The Powerbooks, for example, were praised for their beautiful design, which went hand-in-hand with their technical capabilities.\\n4. **Historical Precedent**: There\\'s a sense of \"return\" rather than a switch to Mac for many in the hacker community, as Macs were considered the canonical hacker\\'s computer in the early stages of personal computing. This harkens back to a time when Macintosh promised a computer that was not only technically powerful and accessible but also user-friendly and well-designed.\\n\\nThese reasons collectively contributed to a swing back towards Apple\\'s Macintosh systems among the most technically adept users, reversing a trend where many had moved away from Macs in favor of PCs running Linux or other Unix-like operating systems.', llm_context=[]), RunData(scores={'answer_similarity': 5.0}, reference_question='What significant change in the startup funding landscape did Paul Graham discuss in his August 2010 essay, \"The Future of Startup Funding\"?', reference_answer='Paul Graham discussed the significant change of a growing disconnect between traditional venture capitalists (VCs), who invest large amounts, and a large class of startups that need less funding than before. He observed that increasingly, startups were seeking a couple hundred thousand dollars, not a couple million, leading to a rise in smaller, angel-sized investments from both VCs and a new type of investor, the super-angel. This shift represents a move towards more flexible, founder-friendly funding models.', llm_answer='Paul Graham discussed the emergence and rise of super-angels and the changing dynamics between venture capitalists (VCs) and startups as a significant change in the startup funding landscape in his August 2010 essay, \"The Future of Startup Funding\". He noted the increasing disconnect between traditional VCs, who were accustomed to making large investments, and a growing class of startups that required significantly less capital. This gap led to the rise of super-angels, who operate like angels but with pooled capital, thus allowing them to make more and larger investments than traditional angels. This change reflected a shift towards more flexible, smaller-scale funding that could more effectively meet the needs of modern startups, which often require less capital due to reduced operational and initial setup costs. Graham saw this as a still-developing area with much room for growth and suggested that the distribution of investors should mirror the distribution of startups, necessitating many more investors capable of making these smaller, more agile investments.', llm_context=[]), RunData(scores={'answer_similarity': 5.0}, reference_question='What is the method proposed by Paul Graham to detect bias in selection processes, and how does it work?', reference_answer=\"Paul Graham proposes a method to detect bias in selection processes without needing detailed information about the entire applicant pool. This method can be applied when there is at least a random sample of selected applicants available, their subsequent performance is measurable, and the groups being compared have a roughly similar distribution of abilities. The concept revolves around the understanding that bias makes it harder for certain types of applicants to be selected, meaning those who are selected despite the bias are likely to be exceptionally competent. Thus, if these selected individuals outperform their peers, it could indicate the presence of bias in the selection process. The method's validity relies on the performance test being unaffected by the bias being investigated. For instance, detecting bias against female founders in venture capital could involve examining if startups with female founders perform better than those without. Graham illustrates this with the example of First Round Capital, which inadvertently showed such bias by reporting that startups with female founders performed better than those without by 63%. This approach does not just help detect bias but also offers a tangible definition of what bias entails in selection processes.\", llm_answer='Paul Graham proposes a method to detect bias in selection processes that does not require any knowledge about the applicant pool. This method works under certain conditions: (a) there is at least a random sample of the applicants that were selected, (b) their subsequent performance is measured, and (c) the groups of applicants being compared have roughly equal distribution of ability.\\n\\nThe logic behind this method is based on the definition of bias in a selection process. A selection process is biased against a certain type of applicants (type x) if it is harder for them to get through the selection process. As a result, for type x applicants to be selected, they must be better than applicants not of type x. Consequently, if the selected type x applicants indeed outperform the others, this indicates the presence of bias in the selection process.\\n\\nTo effectively use this technique, the performance measurement used must be valid and not affected by the bias it aims to detect. This method allows third parties to detect bias without cooperation from those conducting the selection, provided they have access to performance data of the selected applicants.\\n\\nAn example given to illustrate this method involves venture capital firms potentially biased against female founders. If it were suspected that there was bias, examining whether startups with female founders outperform those without could reveal whether the selection process was biased. This method is not just a heuristic for detecting bias but is presented as the very definition of what bias in selection processes means.', llm_context=[]), RunData(scores={'answer_similarity': 1.0}, reference_question='What is the primary advice Paul Graham gives when it comes to choosing what to imitate in the process of learning and creating?', reference_answer='Paul Graham advises only copying what you genuinely like to avoid the mistake of imitating the wrong aspects of any field, suggesting that personal enjoyment and interest should guide what one chooses to imitate.', llm_answer=\"Paul Graham's primary advice when it comes to choosing what to imitate in the process of learning and creating is to prioritize simplicity and minimalism. He advocates for starting with the simplest possible version of a product or idea and then iterating based on feedback and new insights. This approach emphasizes the importance of engaging with users and being flexible enough to change your idea based on what you learn from them, rather than trying to perfect a complex solution right from the start. Graham stresses that often, a product that seems simple and minimal can actually be more meaningful, defensible, and valuable than something overly complicated. This advice encourages creators to focus on the core value of what they're offering and to avoid over-engineering or adding unnecessary features that don't serve the primary goal or solve the problem effectively.\", llm_context=[])], id=None)"
      ]
     },
     "execution_count": 33,
     "metadata": {},
     "output_type": "execute_result"
    }
   ],
   "source": [
    "customgpt_run"
   ]
  },
  {
   "cell_type": "code",
   "execution_count": 30,
   "metadata": {},
   "outputs": [
    {
     "data": {
      "text/html": [
       "<div>\n",
       "<style scoped>\n",
       "    .dataframe tbody tr th:only-of-type {\n",
       "        vertical-align: middle;\n",
       "    }\n",
       "\n",
       "    .dataframe tbody tr th {\n",
       "        vertical-align: top;\n",
       "    }\n",
       "\n",
       "    .dataframe thead th {\n",
       "        text-align: right;\n",
       "    }\n",
       "</style>\n",
       "<table border=\"1\" class=\"dataframe\">\n",
       "  <thead>\n",
       "    <tr style=\"text-align: right;\">\n",
       "      <th></th>\n",
       "      <th>reference_question</th>\n",
       "      <th>reference_answer</th>\n",
       "      <th>llm_answer</th>\n",
       "      <th>llm_context</th>\n",
       "      <th>answer_similarity</th>\n",
       "    </tr>\n",
       "  </thead>\n",
       "  <tbody>\n",
       "    <tr>\n",
       "      <th>0</th>\n",
       "      <td>What realization did Paul Graham have about th...</td>\n",
       "      <td>Paul Graham realized that the true value of re...</td>\n",
       "      <td>Paul Graham realized that the value of reading...</td>\n",
       "      <td>[]</td>\n",
       "      <td>5.0</td>\n",
       "    </tr>\n",
       "    <tr>\n",
       "      <th>1</th>\n",
       "      <td>Why does the author believe Twitter is conside...</td>\n",
       "      <td>The author believes Twitter is considered a si...</td>\n",
       "      <td>The author believes Twitter is considered a si...</td>\n",
       "      <td>[]</td>\n",
       "      <td>5.0</td>\n",
       "    </tr>\n",
       "    <tr>\n",
       "      <th>2</th>\n",
       "      <td>What distinguishes an intentional moderate fro...</td>\n",
       "      <td>An intentional moderate chooses a position mid...</td>\n",
       "      <td>According to Paul Graham, what distinguishes a...</td>\n",
       "      <td>[]</td>\n",
       "      <td>5.0</td>\n",
       "    </tr>\n",
       "    <tr>\n",
       "      <th>3</th>\n",
       "      <td>What is the purpose of the patent pledge propo...</td>\n",
       "      <td>The purpose of the patent pledge proposed by P...</td>\n",
       "      <td>The purpose of the patent pledge proposed by P...</td>\n",
       "      <td>[]</td>\n",
       "      <td>5.0</td>\n",
       "    </tr>\n",
       "    <tr>\n",
       "      <th>4</th>\n",
       "      <td>What main advantage does Paul Graham identify ...</td>\n",
       "      <td>Paul Graham identifies that the main advantage...</td>\n",
       "      <td>The main advantage Paul Graham identifies in u...</td>\n",
       "      <td>[]</td>\n",
       "      <td>5.0</td>\n",
       "    </tr>\n",
       "    <tr>\n",
       "      <th>5</th>\n",
       "      <td>What are the three components of independent-m...</td>\n",
       "      <td>The three components of independent-mindedness...</td>\n",
       "      <td>The three components of independent-mindedness...</td>\n",
       "      <td>[]</td>\n",
       "      <td>5.0</td>\n",
       "    </tr>\n",
       "    <tr>\n",
       "      <th>6</th>\n",
       "      <td>How does Paul Graham compare the RIAA and MPAA...</td>\n",
       "      <td>Paul Graham compares the RIAA and MPAA's accus...</td>\n",
       "      <td>Paul Graham compares the RIAA and MPAA's accus...</td>\n",
       "      <td>[]</td>\n",
       "      <td>5.0</td>\n",
       "    </tr>\n",
       "    <tr>\n",
       "      <th>7</th>\n",
       "      <td>Why does Paul Graham argue that the concept of...</td>\n",
       "      <td>Paul Graham argues that the concept of \"taste ...</td>\n",
       "      <td>Paul Graham argues that the concept of \"taste ...</td>\n",
       "      <td>[]</td>\n",
       "      <td>5.0</td>\n",
       "    </tr>\n",
       "    <tr>\n",
       "      <th>8</th>\n",
       "      <td>According to Paul Graham, why should programme...</td>\n",
       "      <td>According to Paul Graham, programmers should c...</td>\n",
       "      <td>According to Paul Graham, programmers should c...</td>\n",
       "      <td>[]</td>\n",
       "      <td>5.0</td>\n",
       "    </tr>\n",
       "    <tr>\n",
       "      <th>9</th>\n",
       "      <td>What does Paul Graham argue is the main reason...</td>\n",
       "      <td>Paul Graham argues that the main reason for va...</td>\n",
       "      <td>Paul Graham argues that the main reason for va...</td>\n",
       "      <td>[]</td>\n",
       "      <td>5.0</td>\n",
       "    </tr>\n",
       "    <tr>\n",
       "      <th>10</th>\n",
       "      <td>How does Paul Graham describe the nature of st...</td>\n",
       "      <td>Paul Graham describes startup investing as hig...</td>\n",
       "      <td>Paul Graham describes the nature of startup in...</td>\n",
       "      <td>[]</td>\n",
       "      <td>5.0</td>\n",
       "    </tr>\n",
       "    <tr>\n",
       "      <th>11</th>\n",
       "      <td>What significant concept introduced by Richard...</td>\n",
       "      <td>Paul Graham mentions the significant concept o...</td>\n",
       "      <td>The significant concept introduced by Richard ...</td>\n",
       "      <td>[]</td>\n",
       "      <td>5.0</td>\n",
       "    </tr>\n",
       "    <tr>\n",
       "      <th>12</th>\n",
       "      <td>What strategy did Paul Graham find effective i...</td>\n",
       "      <td>Paul Graham found it effective to use a separa...</td>\n",
       "      <td>Paul Graham found it effective to set up a sep...</td>\n",
       "      <td>[]</td>\n",
       "      <td>5.0</td>\n",
       "    </tr>\n",
       "    <tr>\n",
       "      <th>13</th>\n",
       "      <td>What is the main difference between a fanboy a...</td>\n",
       "      <td>The main difference between a fanboy and a hat...</td>\n",
       "      <td>The main difference between a fanboy and a hat...</td>\n",
       "      <td>[]</td>\n",
       "      <td>5.0</td>\n",
       "    </tr>\n",
       "    <tr>\n",
       "      <th>14</th>\n",
       "      <td>What method does Paul Graham suggest for ensur...</td>\n",
       "      <td>Paul Graham suggests a method learned from his...</td>\n",
       "      <td>Paul Graham suggests a method that essentially...</td>\n",
       "      <td>[]</td>\n",
       "      <td>5.0</td>\n",
       "    </tr>\n",
       "    <tr>\n",
       "      <th>15</th>\n",
       "      <td>What is the primary mechanism by which Paul Gr...</td>\n",
       "      <td>The primary mechanism by which Paul Graham's p...</td>\n",
       "      <td>The primary mechanism by which Paul Graham's p...</td>\n",
       "      <td>[]</td>\n",
       "      <td>5.0</td>\n",
       "    </tr>\n",
       "    <tr>\n",
       "      <th>16</th>\n",
       "      <td>What does Paul Graham identify as the most dam...</td>\n",
       "      <td>Paul Graham identifies learning to get good gr...</td>\n",
       "      <td>Paul Graham identifies the most damaging thing...</td>\n",
       "      <td>[]</td>\n",
       "      <td>5.0</td>\n",
       "    </tr>\n",
       "    <tr>\n",
       "      <th>17</th>\n",
       "      <td>What is the core issue Paul Graham identifies ...</td>\n",
       "      <td>The core issue Paul Graham identifies with App...</td>\n",
       "      <td>The core issue Paul Graham identifies with App...</td>\n",
       "      <td>[]</td>\n",
       "      <td>5.0</td>\n",
       "    </tr>\n",
       "    <tr>\n",
       "      <th>18</th>\n",
       "      <td>What are the key factors identified by Paul Gr...</td>\n",
       "      <td>Paul Graham identifies several key factors con...</td>\n",
       "      <td>Paul Graham identifies several key factors tha...</td>\n",
       "      <td>[]</td>\n",
       "      <td>5.0</td>\n",
       "    </tr>\n",
       "    <tr>\n",
       "      <th>19</th>\n",
       "      <td>What is the main reason Paul Graham dislikes t...</td>\n",
       "      <td>Paul Graham dislikes the term \"computer scienc...</td>\n",
       "      <td>The main reason Paul Graham dislikes the term ...</td>\n",
       "      <td>[]</td>\n",
       "      <td>5.0</td>\n",
       "    </tr>\n",
       "    <tr>\n",
       "      <th>20</th>\n",
       "      <td>Who are considered accredited investors accord...</td>\n",
       "      <td>The SEC defines an \"accredited investor\" as so...</td>\n",
       "      <td>According to the SEC (U.S. Securities and Exch...</td>\n",
       "      <td>[]</td>\n",
       "      <td>5.0</td>\n",
       "    </tr>\n",
       "    <tr>\n",
       "      <th>21</th>\n",
       "      <td>What reasons did Paul Graham identify for hack...</td>\n",
       "      <td>Paul Graham identified several reasons for hac...</td>\n",
       "      <td>Paul Graham identified several reasons for hac...</td>\n",
       "      <td>[]</td>\n",
       "      <td>5.0</td>\n",
       "    </tr>\n",
       "    <tr>\n",
       "      <th>22</th>\n",
       "      <td>What significant change in the startup funding...</td>\n",
       "      <td>Paul Graham discussed the significant change o...</td>\n",
       "      <td>Paul Graham discussed the emergence and rise o...</td>\n",
       "      <td>[]</td>\n",
       "      <td>5.0</td>\n",
       "    </tr>\n",
       "    <tr>\n",
       "      <th>23</th>\n",
       "      <td>What is the method proposed by Paul Graham to ...</td>\n",
       "      <td>Paul Graham proposes a method to detect bias i...</td>\n",
       "      <td>Paul Graham proposes a method to detect bias i...</td>\n",
       "      <td>[]</td>\n",
       "      <td>5.0</td>\n",
       "    </tr>\n",
       "    <tr>\n",
       "      <th>24</th>\n",
       "      <td>What is the primary advice Paul Graham gives w...</td>\n",
       "      <td>Paul Graham advises only copying what you genu...</td>\n",
       "      <td>Paul Graham's primary advice when it comes to ...</td>\n",
       "      <td>[]</td>\n",
       "      <td>1.0</td>\n",
       "    </tr>\n",
       "  </tbody>\n",
       "</table>\n",
       "</div>"
      ],
      "text/plain": [
       "                                   reference_question  \\\n",
       "0   What realization did Paul Graham have about th...   \n",
       "1   Why does the author believe Twitter is conside...   \n",
       "2   What distinguishes an intentional moderate fro...   \n",
       "3   What is the purpose of the patent pledge propo...   \n",
       "4   What main advantage does Paul Graham identify ...   \n",
       "5   What are the three components of independent-m...   \n",
       "6   How does Paul Graham compare the RIAA and MPAA...   \n",
       "7   Why does Paul Graham argue that the concept of...   \n",
       "8   According to Paul Graham, why should programme...   \n",
       "9   What does Paul Graham argue is the main reason...   \n",
       "10  How does Paul Graham describe the nature of st...   \n",
       "11  What significant concept introduced by Richard...   \n",
       "12  What strategy did Paul Graham find effective i...   \n",
       "13  What is the main difference between a fanboy a...   \n",
       "14  What method does Paul Graham suggest for ensur...   \n",
       "15  What is the primary mechanism by which Paul Gr...   \n",
       "16  What does Paul Graham identify as the most dam...   \n",
       "17  What is the core issue Paul Graham identifies ...   \n",
       "18  What are the key factors identified by Paul Gr...   \n",
       "19  What is the main reason Paul Graham dislikes t...   \n",
       "20  Who are considered accredited investors accord...   \n",
       "21  What reasons did Paul Graham identify for hack...   \n",
       "22  What significant change in the startup funding...   \n",
       "23  What is the method proposed by Paul Graham to ...   \n",
       "24  What is the primary advice Paul Graham gives w...   \n",
       "\n",
       "                                     reference_answer  \\\n",
       "0   Paul Graham realized that the true value of re...   \n",
       "1   The author believes Twitter is considered a si...   \n",
       "2   An intentional moderate chooses a position mid...   \n",
       "3   The purpose of the patent pledge proposed by P...   \n",
       "4   Paul Graham identifies that the main advantage...   \n",
       "5   The three components of independent-mindedness...   \n",
       "6   Paul Graham compares the RIAA and MPAA's accus...   \n",
       "7   Paul Graham argues that the concept of \"taste ...   \n",
       "8   According to Paul Graham, programmers should c...   \n",
       "9   Paul Graham argues that the main reason for va...   \n",
       "10  Paul Graham describes startup investing as hig...   \n",
       "11  Paul Graham mentions the significant concept o...   \n",
       "12  Paul Graham found it effective to use a separa...   \n",
       "13  The main difference between a fanboy and a hat...   \n",
       "14  Paul Graham suggests a method learned from his...   \n",
       "15  The primary mechanism by which Paul Graham's p...   \n",
       "16  Paul Graham identifies learning to get good gr...   \n",
       "17  The core issue Paul Graham identifies with App...   \n",
       "18  Paul Graham identifies several key factors con...   \n",
       "19  Paul Graham dislikes the term \"computer scienc...   \n",
       "20  The SEC defines an \"accredited investor\" as so...   \n",
       "21  Paul Graham identified several reasons for hac...   \n",
       "22  Paul Graham discussed the significant change o...   \n",
       "23  Paul Graham proposes a method to detect bias i...   \n",
       "24  Paul Graham advises only copying what you genu...   \n",
       "\n",
       "                                           llm_answer llm_context  \\\n",
       "0   Paul Graham realized that the value of reading...          []   \n",
       "1   The author believes Twitter is considered a si...          []   \n",
       "2   According to Paul Graham, what distinguishes a...          []   \n",
       "3   The purpose of the patent pledge proposed by P...          []   \n",
       "4   The main advantage Paul Graham identifies in u...          []   \n",
       "5   The three components of independent-mindedness...          []   \n",
       "6   Paul Graham compares the RIAA and MPAA's accus...          []   \n",
       "7   Paul Graham argues that the concept of \"taste ...          []   \n",
       "8   According to Paul Graham, programmers should c...          []   \n",
       "9   Paul Graham argues that the main reason for va...          []   \n",
       "10  Paul Graham describes the nature of startup in...          []   \n",
       "11  The significant concept introduced by Richard ...          []   \n",
       "12  Paul Graham found it effective to set up a sep...          []   \n",
       "13  The main difference between a fanboy and a hat...          []   \n",
       "14  Paul Graham suggests a method that essentially...          []   \n",
       "15  The primary mechanism by which Paul Graham's p...          []   \n",
       "16  Paul Graham identifies the most damaging thing...          []   \n",
       "17  The core issue Paul Graham identifies with App...          []   \n",
       "18  Paul Graham identifies several key factors tha...          []   \n",
       "19  The main reason Paul Graham dislikes the term ...          []   \n",
       "20  According to the SEC (U.S. Securities and Exch...          []   \n",
       "21  Paul Graham identified several reasons for hac...          []   \n",
       "22  Paul Graham discussed the emergence and rise o...          []   \n",
       "23  Paul Graham proposes a method to detect bias i...          []   \n",
       "24  Paul Graham's primary advice when it comes to ...          []   \n",
       "\n",
       "    answer_similarity  \n",
       "0                 5.0  \n",
       "1                 5.0  \n",
       "2                 5.0  \n",
       "3                 5.0  \n",
       "4                 5.0  \n",
       "5                 5.0  \n",
       "6                 5.0  \n",
       "7                 5.0  \n",
       "8                 5.0  \n",
       "9                 5.0  \n",
       "10                5.0  \n",
       "11                5.0  \n",
       "12                5.0  \n",
       "13                5.0  \n",
       "14                5.0  \n",
       "15                5.0  \n",
       "16                5.0  \n",
       "17                5.0  \n",
       "18                5.0  \n",
       "19                5.0  \n",
       "20                5.0  \n",
       "21                5.0  \n",
       "22                5.0  \n",
       "23                5.0  \n",
       "24                1.0  "
      ]
     },
     "execution_count": 30,
     "metadata": {},
     "output_type": "execute_result"
    }
   ],
   "source": [
    "customgpt_run_df"
   ]
  },
  {
   "cell_type": "code",
   "execution_count": 10,
   "metadata": {
    "id": "_ouo4BP1HKDz"
   },
   "outputs": [
    {
     "data": {
      "image/png": "[encoded data removed]",
      "text/plain": [
       "<Figure size 640x480 with 1 Axes>"
      ]
     },
     "metadata": {},
     "output_type": "display_data"
    }
   ],
   "source": [
    "customgpt_answer_similarity_scores = pd.Series([x.scores[\"answer_similarity\"] for x in customgpt_run.run_data])\n",
    "category_counts = customgpt_answer_similarity_scores.value_counts()\n",
    "plt.bar(category_counts.index, category_counts.values)\n",
    "\n",
    "plt.title('Distribution of scores for CustomGPT')\n",
    "plt.xlabel('Score')\n",
    "plt.ylabel('Count')\n",
    "\n",
    "plt.bar(category_counts.index, category_counts.values, color='#A679C8')\n",
    "\n",
    "# Remove all scores except whole numbers\n",
    "plt.xticks(range(0, 6, 1))\n",
    "\n",
    "plt.show()"
   ]
  },
  {
   "cell_type": "markdown",
   "metadata": {
    "id": "28jsFJCXHKDz"
   },
   "source": [
    "### OpenAI Rag Assistant"
   ]
  },
  {
   "cell_type": "markdown",
   "metadata": {
    "id": "5pQGqQRmHKDz"
   },
   "source": [
    "#### Setup"
   ]
  },
  {
   "cell_type": "code",
   "execution_count": 17,
   "metadata": {},
   "outputs": [],
   "source": [
    "client = OpenAI()"
   ]
  },
  {
   "cell_type": "code",
   "execution_count": 20,
   "metadata": {
    "id": "0y5Rs0riHKD0"
   },
   "outputs": [],
   "source": [
    "def get_openai_rag_response(benchmarkItem: BenchmarkItem, assistant):\n",
    "    prompt = benchmarkItem.question\n",
    "    thread = client.beta.threads.create(\n",
    "        messages=[\n",
    "            {\n",
    "                \"role\": \"user\",\n",
    "                \"content\": prompt\n",
    "            }\n",
    "        ]\n",
    "    )\n",
    "    run = client.beta.threads.runs.create(\n",
    "        thread_id=thread.id,\n",
    "        assistant_id=assistant.id,\n",
    "    )\n",
    "    max_retries = 10\n",
    "    base = 0.1\n",
    "    num_retries = 0\n",
    "    try:\n",
    "        while max_retries > 0:\n",
    "            if max_retries == 0:\n",
    "                client.beta.threads.delete(thread.id)\n",
    "                raise Exception(\"Max tries exceeded\")\n",
    "            messages = client.beta.threads.messages.list(\n",
    "                thread_id=thread.id,\n",
    "            )\n",
    "            if len(messages.data)>0 and len(messages.data[0].content)>0:\n",
    "                response_message = messages.data[0].content[0].text.value\n",
    "                if response_message != prompt and response_message.strip():\n",
    "                    client.beta.threads.delete(thread.id)\n",
    "                    return response_message\n",
    "            time.sleep(base * (2 ** num_retries))\n",
    "            num_retries += 1\n",
    "            max_retries -= 1\n",
    "    except Exception as e:\n",
    "        print(e)\n",
    "        client.beta.threads.delete(thread.id)\n",
    "        raise e\n",
    "\n",
    "#openai rag only supports a max of 20 files. So we just combine all essays into single file\n",
    "def upload_essay():\n",
    "    file_ids=[]\n",
    "    with open(\"all_essays_in_single_file.txt\", 'rb') as essay_file:\n",
    "        file = client.files.create(\n",
    "            file=essay_file,\n",
    "            purpose='assistants'\n",
    "        )\n",
    "        file_ids.append(file.id)\n",
    "    return file_ids\n",
    "\n",
    "def create_assistant(file_ids):\n",
    "    return client.beta.assistants.create(\n",
    "        name=f\"OpenAI Rag Test {len(file_ids)} Files\",\n",
    "        instructions=(\n",
    "            \"You are a chatbot that answers questions about Paul Graham's essays. \"\n",
    "            \"Use your knowledge base to best respond to questions. \"\n",
    "            \"NO MATTER WHAT, DO NOT PULL INFORMATION FROM EXTERNAL KNOWLEDGE. ONLY USE YOUR OWN KNOWLEDGE BASE.\"\n",
    "        ),\n",
    "        model=\"gpt-4-turbo-preview\",\n",
    "        tools=[{\"type\": \"retrieval\"}],\n",
    "        file_ids=file_ids\n",
    "    )\n",
    "\n",
    "def setup_assistant():\n",
    "    file_ids = upload_essay()\n",
    "    return create_assistant(file_ids)\n",
    "\n",
    "# WARNING\n",
    "# this deletes all files associated with your openai api key.\n",
    "#def cleanup_files():\n",
    "#    for f in client.files.list():\n",
    "#        client.files.delete(f.id)\n",
    "#        time.sleep(1)"
   ]
  },
  {
   "cell_type": "markdown",
   "metadata": {
    "id": "OppxdEXMHKD0"
   },
   "source": [
    "#### Testing"
   ]
  },
  {
   "cell_type": "code",
   "execution_count": 21,
   "metadata": {
    "id": "_htm-vGVHKD0"
   },
   "outputs": [],
   "source": [
    "assistant = setup_assistant()"
   ]
  },
  {
   "cell_type": "code",
   "execution_count": 22,
   "metadata": {
    "id": "GIvH8slVHKD1"
   },
   "outputs": [
    {
     "name": "stdout",
     "output_type": "stream",
     "text": [
      "According to Paul Graham, the key components necessary to create a technology hub include:\n",
      "\n",
      "1. **Youth Appeal**: Technology hubs are usually started by young nerds, so it's crucial that the city appeals specifically to them. The cities need to feel young, which doesn't necessarily mean they have to be new but should be full of students or young people. Large populations of conservative or stodgy people are to be avoided as they could have too much momentum in the wrong direction for startups 【5†source】.\n",
      "\n",
      "2. **Tolerance for Odd Ideas**: Startups often begin with concepts that seem a little crazy or unconventional. High-tech cities in the US are also the most liberal because liberal cities tolerate odd ideas, which are essential for startups. Conversely, towns known for being \"solid\" or representing \"traditional values\" are unlikely to succeed as startup hubs. This connection between technology and liberalism outlines the importance of a culturally open environment 【7:0†source】.\n",
      "\n",
      "3. **An Intact Center**: To attract young people, a town must have an intact center. In many American cities, centers have been abandoned in favor of suburban growth. However, startup hubs like San Francisco, Boston, or Seattle, have kept their centers intact, which is crucial as young people generally prefer not to live in the suburbs 【7:0†source】.\n",
      "\n",
      "4. **Proximity to a Great University**: A great university near an attractive town is a vital component. This combination was all it took to make the original Silicon Valley, indicating the importance of higher education and knowledge transfer in the growth of technology hubs 【7:1†source】.\n",
      "\n",
      "5. **Time for Organic Growth**: The development of a technology hub requires time, as a startup community around a university has to grow organically. The cycle time is at least as long as it takes for a company to succeed, which probably averages about five years. This organic growth is essential for building the expertise needed in a startup hub 【7:2†source】.\n",
      "\n",
      "6. **Self-Sustaining Chain Reaction**: A true startup hub must have a self-sustaining chain reaction, meaning it either has a lively startup scene or it doesn't. There is no middle ground, as observed with cities that have either a significant startup scene or negligible startup activity compared to established hubs 【7:2†source】.\n",
      "\n",
      "These components suggest that creating a technology hub goes beyond just having the necessary financial or business infrastructures. It requires a combination of cultural openness, educational resources, youth appeal, organic growth over time, and an environment that facilitates innovation and creativity.\n"
     ]
    }
   ],
   "source": [
    "benchmark_item = BenchmarkItem(\n",
    "    question=\"What key components are necessary to create a technology hub according to Paul Graham?\",\n",
    "    answer=\"\"\n",
    ")\n",
    "\n",
    "print(get_openai_rag_response(benchmark_item, assistant))"
   ]
  },
  {
   "cell_type": "markdown",
   "metadata": {
    "id": "n6831C1JHKD1"
   },
   "source": [
    "##### Run through all the questions"
   ]
  },
  {
   "cell_type": "code",
   "execution_count": 23,
   "metadata": {
    "colab": {
     "base_uri": "https://localhost:8080/"
    },
    "id": "Ui6tWclTHKD1",
    "outputId": "369d0322-25d5-409a-b408-8c6e055e7383"
   },
   "outputs": [
    {
     "name": "stderr",
     "output_type": "stream",
     "text": [
      "100%|██████████| 25/25 [04:52<00:00, 11.71s/it]\n"
     ]
    }
   ],
   "source": [
    "from concurrent.futures import ThreadPoolExecutor\n",
    "from tqdm import tqdm\n",
    "\n",
    "# Assuming get_openai_rag_response and benchmark are defined\n",
    "\n",
    "# Function to be executed by each thread\n",
    "def process_item(x):\n",
    "    return get_openai_rag_response(x, assistant)\n",
    "\n",
    "# Number of threads to use, you can adjust this based on your system's capabilities\n",
    "num_threads = 4\n",
    "\n",
    "# Use ThreadPoolExecutor to parallelize the execution\n",
    "with ThreadPoolExecutor(max_workers=num_threads) as executor:\n",
    "    # Prepare a list to hold results\n",
    "    raw_openai_responses = list(tqdm(executor.map(process_item, benchmark.items), total=len(benchmark.items)))\n",
    "\n",
    "# At this point, raw_openai_responses will be filled with the results\n"
   ]
  },
  {
   "cell_type": "code",
   "execution_count": 24,
   "metadata": {
    "id": "AQkJHWBmHKD2"
   },
   "outputs": [],
   "source": [
    "openai_responses = [\n",
    "    LLMResponse(\n",
    "        llm_answer=str(r), llm_context_list=[], benchmark_item=bi\n",
    "    ) for r, bi in zip(raw_openai_responses, benchmark.items)\n",
    "]"
   ]
  },
  {
   "cell_type": "code",
   "execution_count": 25,
   "metadata": {
    "id": "4hyOfpizHKD2"
   },
   "outputs": [
    {
     "name": "stderr",
     "output_type": "stream",
     "text": [
      "Scoring responses: 100%|██████████| 25/25 [00:03<00:00,  6.45it/s]\n"
     ]
    }
   ],
   "source": [
    "scorer = ValidateScorer([AnswerSimilarityMetric()])\n",
    "openai_run = scorer.score_run(openai_responses, parallelism=5)"
   ]
  },
  {
   "cell_type": "code",
   "execution_count": 32,
   "metadata": {},
   "outputs": [
    {
     "data": {
      "text/plain": [
       "Run(overall_scores={'answer_similarity': 4.44}, run_data=[RunData(scores={'answer_similarity': 5.0}, reference_question=\"What realization did Paul Graham have about the value of reading books, even if he doesn't remember their details?\", reference_answer=\"Paul Graham realized that the true value of reading books isn't necessarily in remembering all the details but in how those readings shape and train his mental model of the world. Even if the specific knowledge is forgotten over time, its impact on his understanding and perspective remains, enhancing his cognition and worldview. This insight helped him appreciate the enduring worth of reading beyond the immediate recall of facts.\", llm_answer='Paul Graham\\'s realization about the value of reading books, even if he doesn\\'t remember their details, is deeply insightful. He observes that while the direct information from a book may be forgotten, the impact it has on one\\'s mental models of the world remains. This effect is likened to compiling a program and then losing the source code; the program still operates effectively, but the exact reason why might not be clearly understood. Graham highlights that what we learn from books integrates into our understanding of the world, refining our thought processes and perspectives, even if we can\\'t recall the specific content or source of these lessons. This leads to the understanding that reading and experiences serve to train one\\'s model of the world, making the act of reading valuable beyond the immediate retention of information. Furthermore, Graham concludes that given this perspective, it is beneficial to read important books multiple times throughout one\\'s life, as the \"compilation\" of the book\\'s insights would differ with the evolving state of the reader\\'s brain【7:1†source】.', llm_context=[]), RunData(scores={'answer_similarity': 5.0}, reference_question='Why does the author believe Twitter is considered a significant innovation? ', reference_answer='The author believes Twitter is considered a significant innovation because it introduces a new messaging protocol where recipients are not pre-specified, which is a rarity among protocols, especially those that gain widespread use. Moreover, the fact that Twitter is owned by a private company, yet has not been heavily monetized early on, has allowed it to feel more like a universal protocol rather than a controlled service, facilitating its widespread adoption.', llm_answer=\"The author, Paul Graham, believes Twitter is considered a significant innovation for several reasons. Primarily, Twitter is viewed as a big deal because it introduced a new messaging protocol, where the sender does not specify the recipients. This is notable because new messaging protocols, especially those that gain widespread acceptance, are rare. The essay mentions only a handful of commonly used protocols such as TCP/IP (the Internet), SMTP (email), and HTTP (the web). As a result, any new protocol that achieves widespread usage is considered significant.\\n\\nMoreover, the fact that Twitter is a protocol owned by a private company adds to its novelty since this combination of a new, widely used protocol that is privately owned is even rarer. The essay also suggests that the slow approach of Twitter's founders to monetize the platform may have been advantageous in the long term. Their reluctance to exert too much control over the platform made Twitter feel more like previous public protocols, making it easier for the platform to spread since one tends to forget it's owned by a private company【5†source】.\", llm_context=[]), RunData(scores={'answer_similarity': 5.0}, reference_question='What distinguishes an intentional moderate from an accidental moderate in political views according to Paul Graham?', reference_answer='An intentional moderate chooses a position mid-way between extremes intentionally, often having opinions near the center for every issue, whereas an accidental moderate forms opinions independently on various matters, leading their viewpoints to scatter across a broad range but average in the middle. Accidental moderates choose their own answers and questions, not strictly adhering to the established importance of issues by the left or right.', llm_answer=\"According to Paul Graham, the distinction between an intentional moderate and an accidental moderate in political views lies in their approach to forming opinions. \\n\\nIntentional moderates deliberately choose a position that is midway between the extremes of the political right and left, effectively trimming their views to fit within this middle ground. In contrast, accidental moderates develop their political stance based on their independent analysis of each issue, resulting in a set of views that, while varying across the political spectrum, average to a moderate position. An accidental moderate's views are not uniformly centered but scatter over a wide range, reflecting a more eclectic and individually reasoned political philosophy. \\n\\nIntentional moderates, much like ideologues on either end of the political spectrum, tend to adopt their positions in bulk—aligning their views across different issues to maintain a central political identity. This approach means that if the median opinion shifts, so must the intentional moderate’s stance to continue being considered moderate. Accidental moderates, on the other hand, choose their positions—and even the questions they find important—based on personal judgment rather than aiming for a central alignment. This independence can lead to them not caring about issues that the far left and far right find critical, making the political classification of accidental moderates challenging.\\n\\nGraham also notes that accidental moderates may face challenges from both sides of the political divide, as their independently formed views can draw criticism from extreme positions on either side. Despite this, he suggests that being an accidental moderate requires a significant amount of courage due to the independent thought and resistance to ideological orthodoxy it entails. According to Graham, most intellectually impressive individuals tend to be accidental moderates, especially those whose work revolves around ideas, as this work necessitates an independent and critical approach to thought【7:0†source】.\", llm_context=[]), RunData(scores={'answer_similarity': 5.0}, reference_question='What is the purpose of the patent pledge proposed by Paul Graham?', reference_answer='The purpose of the patent pledge proposed by Paul Graham is to decrease the misuse of patents by established companies with bad products who use patents to suppress small competitors with good products, without having to go through government-led patent reform. The pledge encourages technology companies not to initiate the use of software patents against companies with fewer than 25 people, aiming to foster innovation and deter companies from competing through litigation rather than by developing and improving products.', llm_answer='The purpose of the patent pledge proposed by Paul Graham is to mitigate part of the patent problem without relying on government intervention. Graham acknowledges the debate on whether patents generally promote or hinder technological progress. Realizing that bad applications of patents seem to be on the rise, he proposes a solution to tackle the issue downstream, specifically focusing on the abuse where established companies with inferior products use patents to suppress smaller competitors with superior offerings. The essence of Graham\\'s solution is a public pledge by companies to refrain from using their software patents as weapons against smaller companies (those with fewer than 25 people). This approach aims to make companies that engage in such anti-competitive practices stand out unfavorably to potential employees and investors, thereby pressuring them to compete based on the quality of their products rather than litigation. Graham\\'s patent pledge is designed not to be legally binding but to signal a commitment to higher ethical standards in the business practices of technology companies, similar to Google\\'s informal corporate motto \"Don\\'t be evil\"【7:0†source】.', llm_context=[]), RunData(scores={'answer_similarity': 5.0}, reference_question='What main advantage does Paul Graham identify in using the list of n things format for essays, especially for beginning writers?', reference_answer=\"Paul Graham identifies that the main advantage of using the list of n things format for essays is its simplicity and structure, which makes it a good starting point for beginning writers. It offers a clear, straightforward structure by presenting a collection of points of roughly equal importance, thus limiting the damage a bad writer can do and providing a form that is easier to follow and understand for both the writer and the reader. This format also helps in managing writer's block and simplifies the process of essay writing by making it more approachable for novices.\", llm_answer='Paul Graham identifies the main advantage of using the \"list of n things\" format for essays, especially for beginning writers, as its simplicity and the structural constraints it imposes, which limit the potential damage that can be done by inexperienced authors. This format is likened to the cheeseburger of essay forms: \"Even a bad cook can make a decent cheeseburger,\" Graham explains, implying that the straightforward, predictable structure of a \"list of n things\" essay makes it a safe choice for those still mastering the craft of writing. It specifically prevents writers from indulging in \"any flights of fancy,\" ensuring the essay stays focused on its title\\'s subject. For beginning writers, this format is the easiest and most accessible, essentially serving as a good starting point. Graham also suggests that if beginning writers are going to start with this format, it should be done openly, allowing them to leverage its simplicity without the unnecessary addition of transitions or conclusions that attempt to disguise the list as a more traditional essay. This approach not only helps them produce coherent, readable content but also introduces them to essential writing skills in a manageable way【5:0†source】.', llm_context=[]), RunData(scores={'answer_similarity': 5.0}, reference_question='What are the three components of independent-mindedness as described by Paul Graham in \"How to Think for Yourself\"?', reference_answer='The three components of independent-mindedness described by Paul Graham are fastidiousness about truth, resistance to being told what to think, and curiosity.', llm_answer='In Paul Graham\\'s essay \"How to Think for Yourself,\" he describes the three components of independent-mindedness as follows:\\n\\n1. **Fastidiousness about truth:** This encompasses more than just not believing things that are false. It signifies being careful about the degree of belief, avoiding extremities where the unlikely becomes impossible, and the probable becomes certain. Independent-minded individuals are diligent about the degree of belief attached to any hypothesis or apparent fact. They possess a strong aversion to ideologies that require accepting a package of beliefs without question.\\n\\n2. **Resistance to being told what to think:** More visible than the other two, this trait is not merely a form of skepticism or a negative quality. It\\'s characterized by an active delight in ideas that challenge conventional wisdom. Independent-minded people are not only resistant to conventional ideas but also find enjoyment in notions that are intuitively subversive or counterintuitive.\\n\\n3. **Curiosity:** Possibly the most interesting component, curiosity is closely aligned with the genesis of novel ideas. Independent-minded people are deeply curious and continuously seek new knowledge or answers, contrasting sharply with conventionally-minded individuals who lack this insatiable desire for exploration.\\n\\nGraham notes that these components work in conjunction and can substitute for one another to a certain extent. For example, a significant fastidiousness about truth can compensate for a lesser degree of resistance to being told what to think, and vice versa. Curiosity can also fill gaps left by the other two components, pushing out conventional ideas with new discoveries【13†source】.', llm_context=[]), RunData(scores={'answer_similarity': 5.0}, reference_question=\"How does Paul Graham compare the RIAA and MPAA's accusations of stealing music and movies to a historical anecdote?\", reference_answer=\"Paul Graham compares the RIAA and MPAA's accusations of stealing music and movies to a story about Ooka Tadasuke, a judge in eighteenth-century Japan, where a food shop owner wanted a poor student to pay for enjoying the smell of his food. Graham suggests that treating smells or, by extension, digital content as traditional physical property might not always be appropriate or feasible, likening it to the absurdity of paying for smells. This comparison highlights the challenges in defining what constitutes property in the digital age.\", llm_answer='Paul Graham compares the RIAA and MPAA\\'s accusations of stealing music and movies to a historical anecdote about Ooka Tadasuke, a famous judge in eighteenth century Japan. In one of his cases, the owner of a food shop accused a poor student of \"stealing his smells\" because the student, who could only afford rice, was enjoying the aromas from the food shop without purchasing anything. Graham finds this story reminiscent of the current allegations from the RIAA and MPAA, suggesting it sounds just as ridiculous to treat digital data (music and movies) as property in the same way the food shop owner treated the smells as something that could be stolen. He explains that what counts as property depends on what works to treat as property, and this can change over time. The advent of networks has transformed how data (like smells) moves, making it seem absurd to accuse individuals of stealing digital content in the same way the student was accused of stealing smells. Graham highlights this to argue against the practicality and fairness of charging for content under certain conditions and critiques the RIAA and MPAA for trying to enforce an outdated model of property rights in the digital age【7:0†source】.', llm_context=[]), RunData(scores={'answer_similarity': 5.0}, reference_question='Why does Paul Graham argue that the concept of \"taste is subjective\" is not accurate, especially in the context of art?', reference_answer='Paul Graham argues that the concept of \"taste is subjective\" is not accurate in the context of art because if taste were purely subjective, it would imply there is no such thing as good art or good taste. He explains that good art has an objective element since it succeeds in engaging its human audience, and humans have a lot in common regarding what engages them. Therefore, good taste can be seen as the ability to recognize art that effectively interests its intended audience, challenging the idea that all preferences are equally valid without a basis for comparison.', llm_answer='Paul Graham challenges the notion that \"taste is subjective,\" especially within art, by arguing that good art and, by extension, good taste can indeed be defined and recognized. Graham acknowledges that people have different preferences but posits that there exists a category of good art that appeals to a broad human audience due to the commonalities shared among humans【5†source】. \\n\\nHe differentiates art from simple personal likes and dislikes by emphasizing that art, being man-made, carries significant cultural baggage and is often designed to elicit specific reactions. Most judgments about art, according to Graham, are influenced by extraneous factors which cloud one\\'s ability to assess it purely. He contends that people with better taste are those who are less easily deceived by these factors and do not solely rely on their personal upbringing or preferences to determine what they consider good art【7:0†source】.\\n\\nAdditionally, Graham rejects the idea that \"taste is subjective\" because it undermines the striving for quality and excellence in art creation. He notes that if everything is subjective, then the distinction between good and bad art becomes meaningless, leading to a lack of ambition among artists. Graham desires to resurrect the belief in good art to inspire artists to aim for greatness, arguing that this belief was a driving force behind the great achievements of artists in the past like those from the fifteenth century Florence【7:1†source】.\\n\\nIn summary, Graham argues against the subjectivity of taste in art by illustrating that there are objective elements to what constitutes good art, driven by the inherent commonalities among humans and the intentional design of art itself. He emphasizes the importance of recognizing good art as a means to motivate artists towards achieving excellence.', llm_context=[]), RunData(scores={'answer_similarity': 5.0}, reference_question='According to Paul Graham, why should programmers consider learning \"weird\" programming languages?', reference_answer='According to Paul Graham, programmers should consider learning \"weird\" programming languages because they offer opportunities to learn and explore techniques and concepts that go beyond conventional programming, such as the gluing together of library calls. Weird languages, especially the good ones, often introduce programming paradigms that are not found in the intersection of popular languages, like Lisp macros, which enable problem-solving by creating a language for a specific type of problems before writing the application. Learning these languages can expand a programmer\\'s concept of what programming can be and enhance their ability to think in new ways.', llm_answer='According to Paul Graham in his essay \"Weird Languages,\" programmers should consider learning \"weird\" programming languages for several key reasons. These unusual languages offer unique programming paradigms that aren\\'t just about gluing together library calls, which constitutes 99.5% of programming in popular languages. Learning \"weird\" languages can expand a programmer\\'s concept of what programming can be by introducing them to programming paradigms and techniques that go far beyond the conventional. For example, Lisp macros represent a form of programming that significantly diverges from the common practices found in other languages, offering techniques that extend well beyond simple library call combinations. By learning languages that are considered \"weird\" but whose median user is smart, programmers can discover new ways of thinking and problem-solving that were previously inconceivable. This not only involves finding ways to express concepts that would be impractically inconvenient in other languages but also learning to think in new ways that were not possible before【5:0†source】.', llm_context=[]), RunData(scores={'answer_similarity': 0.0}, reference_question='What does Paul Graham argue is the main reason for variation in income, according to his essay \"Mind the Gap\"?', reference_answer='Paul Graham argues that the main reason for variation in income is the same as the root cause of variation in every other human skill, suggesting that people who create more wealth are usually better at doing what other people want.', llm_answer='None', llm_context=[]), RunData(scores={'answer_similarity': 5.0}, reference_question='How does Paul Graham describe the nature of startup investing in \"Black Swan Farming\"?', reference_answer=\"Paul Graham describes startup investing as highly counterintuitive, emphasizing that nearly all returns are concentrated in a few big winners and that the best startup ideas often initially seem like bad ideas. He shares his experience with Y Combinator (YC) to illustrate how a small number of companies, like Dropbox and Airbnb, can account for a disproportionate share of the total value of all companies funded by YC. Graham explains that the extreme variation in startup success rates makes startup investing unpredictable and challenges conventional expectations. He also remarks on the difficulty of recognizing potentially huge successes since they typically don't seem promising at first glance.\", llm_answer='In \"Black Swan Farming,\" Paul Graham describes startup investing as a highly counterintuitive process distinguished by two key principles:\\n\\n1. **Concentration of Returns:** Graham emphasizes that the overwhelming majority of returns in startup investing are derived from a very small number of highly successful investments. He notes the startling revelation that, for Y Combinator, a significant portion of the total value of the companies they\\'ve funded can be attributed to just two firms, Dropbox and Airbnb, which together account for about three quarters of the total value. This, according to Graham, is indicative of the extreme unpredictability and variance in investment outcomes, which often surprises investors due to its departure from conventional expectations of variation.\\n\\n2. **The Nature of Good Ideas:** A second major insight offered by Graham is the notion that the best startup ideas often initially appear to be bad. This stems from the logic that if an idea were obviously good, it would likely already be pursued. Hence, the most successful founders are those who venture into ideas that are not widely recognized as promising but have the potential for massive impact. He illustrates this with a Venn diagram shared by Peter Thiel, highlighting the intersection between what seems like a bad idea and what actually is a good idea as the \"sweet spot\" for startups.\\n\\nGraham’s exposition underlines the challenges inherent in startup investing, notably the necessity to discard innate intuitions in favor of an intellectual understanding of these unique dynamics. The counterintuitive nature of the process requires investors to take substantial risks, often investing in startups that do not seem likely to use conventional metrics to succeed big【11†source】.', llm_context=[]), RunData(scores={'answer_similarity': 5.0}, reference_question='What significant concept introduced by Richard Dawkins does Paul Graham mention in his discussion on viewing humanity from a broader perspective?', reference_answer='Paul Graham mentions the significant concept of the \"selfish gene\" introduced by Richard Dawkins as a step towards viewing humanity from a broader perspective.', llm_answer='In his discussion on viewing humanity from a broader perspective, Paul Graham mentions the significant concept introduced by Richard Dawkins, which is the idea of the \"selfish gene.\" This concept, as explained by Graham, marks a step away from viewing humans as the center of all things and instead emphasizes our role as vehicles constructed by our genes for their own survival and propagation【5†source】.', llm_context=[]), RunData(scores={'answer_similarity': 5.0}, reference_question='What strategy did Paul Graham find effective in reducing internet distractions while working? ', reference_answer='Paul Graham found it effective to use a separate computer for internet activities, keeping his main computer disconnected from the internet except for specific tasks like transferring files or editing web pages. This physical separation made him more aware of the time he spent online and significantly reduced his internet distractions, allowing his main computer to be solely dedicated to work.', llm_answer='Paul Graham found an effective strategy to reduce internet distractions while working by setting up a separate computer exclusively for using the Internet. He kept the WiFi turned off on his main computer, except when necessary for specific tasks like transferring a file or editing a web page. He then used a separate laptop placed on the other side of the room to check mail or browse the web. The rule he set for himself was that he could spend as much time online as he wanted, as long as it was on the separate computer. This setup made him much more conscious of the time he spent online, making it difficult for him to spend more than about an hour a day on the internet. Consequently, his main computer was then available solely for work. Graham noted how different and effective it felt to have a computer that could only be used for work, showcasing how much time he might have been wasting previously【11†source】.', llm_context=[]), RunData(scores={'answer_similarity': 5.0}, reference_question='What is the main difference between a fanboy and a hater as described by Paul Graham in his essay \"Haters\"?', reference_answer='The main difference between a fanboy and a hater, as described by Paul Graham in his essay \"Haters,\" is that a fanboy is obsessively and uncritically supportive, seeing everything the famous person does as good, while a hater is obsessively and uncritically negative, viewing everything the famous person does as bad.', llm_answer='In Paul Graham\\'s essay \"Haters,\" the main difference between a fanboy and a hater is essentially their polarity towards the subject of their obsession: one is positively obsessed, and the other is negatively obsessed. A fanboy is described as someone who is obsessive and uncritical in their admiration. They like the individual so much that this adoration becomes a part of their identity, creating an idealized image of the individual that surpasses reality. Every action of the admired individual is viewed as positive, and even mistakes are interpreted in a favorable light.\\n\\nConversely, a hater is similarly obsessive and uncritical, but their feelings are of disdain rather than admiration. Disliking the individual becomes a part of their identity, and they construct a greatly exaggerated negative image of the person. Everything the person does is interpreted as negative, and any positive actions are twisted into negatives. Much like fanboys, haters also desire to publicize their opinions, aiming to convince everyone of the individual\\'s perceived flaws.\\n\\nThe essay makes a notable comparison, stating, \"Haters are just fanboys with the sign switched\"【11†source】. This encapsulates the primary difference: their stance is essentially the same in terms of obsessive intensity and unbalanced perception, but the direction of their obsession differs—positive for fanboys and negative for haters.', llm_context=[]), RunData(scores={'answer_similarity': 5.0}, reference_question='What method does Paul Graham suggest for ensuring the truthfulness and novelty of the ideas in an essay?', reference_answer=\"Paul Graham suggests a method learned from his friend Robert Morris, which is not to say anything unless he's sure it's worth hearing. This approach involves deleting bad sentences, abandoning whole paragraphs or even entire essays if they do not meet the standards of good ideas, and only publishing content that is assuredly good, thus ensuring the truthfulness and novelty of the ideas presented.\", llm_answer=\"Paul Graham outlines a methodical approach for ensuring the truthfulness and novelty of ideas in an essay, emphasizing the importance of correctness, importance, novelty, and strength.\\n\\n1. **Correctness**: Graham highlights the significance of eliminating any part of the essay that does not feel correct. He describes a meticulous proofreading process where passages that elicit a sense of annoyance, especially those that may not be true, are critically evaluated until that feeling dissipates. This approach ensures that every sentence published appears correct to the writer, thus enhancing the essay's truthfulness. He argues that with unlimited time and without the pressure of deadlines, one can afford the luxury of perfectionism, capturing nearly all mistakes【7:0†source】.\\n\\n2. **Importance**: To secure the importance of ideas, Graham recommends using oneself as a proxy for the reader. This method involves writing about topics that seem important to the writer, under the assumption that if it matters to the writer, it will likely matter to a significant number of readers as well. Graham defines importance as a function of the number of people something matters to and how much it matters to them【7:0†source】.\\n\\n3. **Novelty**: For novelty, Graham advises writing about topics with which the writer has a deep familiarity. This approach suggests that insights surprising to the writer, who has thought extensively about the topic, are likely to be new and surprising to the readers as well. He introduces the idea of using the 'Morris technique' for ensuring novelty — if the writing process does not lead to learning anything new, the essay should not be published. Such a process demands humility to recognize the novelty in one's ideas and confidence in one's expertise to admit when something previously unknown is learned【7:0†source】.\\n\\n4. **Strength**: The strength of an essay derives from thinking well and skillfully using qualifications to express ideas accurately according to their certainty level. Graham explains this balance as akin to the interaction between an accelerator and a clutch in a manual transmission vehicle, where refining the expression of an idea involves adjusting its qualification accordingly【7:0†source】.\\n\\nIn summary, to ensure truthfulness and novelty in essay writing, Paul Graham advocates for a rigorous proofreading process, considering oneself as a proxy for readers, meticulous reflection, and a balanced use of qualifications—all aimed at producing essays that are not only correct and important but also novel and strong.\", llm_context=[]), RunData(scores={'answer_similarity': 5.0}, reference_question=\"What is the primary mechanism by which Paul Graham's proposed auto-retrieving spam filters are intended to combat spam, according to the text?\", reference_answer=\"The primary mechanism by which Paul Graham's proposed auto-retrieving spam filters intend to combat spam is by significantly increasing the spammers' costs and reducing their sales. This is achieved by auto-retrieving every URL found in suspected spam emails, which would in turn increase the bandwidth usage of the spammers' servers to unsustainable levels, potentially causing their servers to crash under the load. This increased load would make the servers unavailable to potential customers, therefore mitigating the effectiveness of the spam.\", llm_answer='According to Paul Graham in his essay \"Filters that Fight Back,\" the primary mechanism by which the proposed auto-retrieving spam filters are intended to combat spam involves turning the spammer\\'s own tactics against them. This is achieved by auto-retrieving the URLs found in spam emails, which would significantly increase the spammer\\'s bandwidth usage and potentially cause their servers to grind to a halt under the load, making them unavailable to potential responders to the spam. Spammers pump out a large volume of emails, traditionally to their benefit, but with auto-retrieving spam filters, this action would become a disadvantage. The essay suggests that the huge volume of spam, which was previously an advantage for spammers, would now work against them. Additionally, Graham proposes using blacklists of spam-advertised sites to prevent abuse and ensure that only suspected spam emails are targeted for auto-retrieval. The objective of these filters would be to make spamming economically unviable by driving up costs for spammers and reducing their sales【5:0†source】.', llm_context=[]), RunData(scores={'answer_similarity': 5.0}, reference_question='What does Paul Graham identify as the most damaging thing learned in school, and how did it affect him personally?', reference_answer='Paul Graham identifies learning to get good grades as the most damaging thing learned in school. This emphasis on grades dominated his actual learning experience in college, leading him to work hardest when studying for tests, despite genuinely being interested in his classes and working hard overall.', llm_answer=\"Paul Graham identifies the most damaging thing learned in school as the focus on getting good grades rather than actual learning. He reflects on an interaction with a particularly earnest philosophy grad student who expressed indifference towards grades, caring only about what he learned. This contrast to the typical student mindset, including Graham's own during his college years, where the measurement through grades dominated the actual process of learning, stood out to him. This mindset led to a scenario where most of the work and effort put into school was aimed at achieving good grades on tests and assignments, rather than genuinely understanding and retaining knowledge. Graham highlights how deeply intertwined the concepts of learning and grades have become in our culture, and he didn't realize the full extent of the problem until decades later, when running Y Combinator. He concludes that this emphasis on grades over learning is detrimental because it doesn't accurately measure understanding or promote long-term retention of knowledge【7:0†source】.\", llm_context=[]), RunData(scores={'answer_similarity': 5.0}, reference_question=\"What is the core issue Paul Graham identifies with Apple's App Store approval process as of November 2009?\", reference_answer=\"The core issue Paul Graham identifies with Apple's App Store approval process is that it is broken and significantly damages Apple's reputation among programmers. He argues that Apple treats software too much like music or books, not recognizing that software's complexity and the need for continual updates make it ill-suited for such a tightly controlled distribution model. This leads to long, random delays for app updates, resulting in the App Store being filled with outdated and buggy versions, which frustrates both developers and users.\", llm_answer=\"As of November 2009, Paul Graham identified the core issue with Apple's App Store approval process as fundamentally stemming from Apple's misunderstanding of how software development works. Unlike music or books, which Apple was accustomed to dealing with through iTunes, software's complexity makes it ill-suited for an intermediary like Apple to own the user and dictate terms. This model, which Apple applied to iPhone apps, doesn't translate well to software because it's too involved for a third party to act as an intermediary between developers and users. Graham critiques Apple for attempting to be a software publisher with a rigidly enforced house style, which he argues is not viable, especially since software development strategies have evolved from a few big releases to a constant stream of small updates. This approach contradicts the current best practice in software development, which is to launch quickly and iterate based on feedback. The App Store's process, with its long, unpredictable delays for approving new versions, hinders this iterative development process, effectively breaking the software development model and leading to the App Store being filled with outdated and subpar versions of applications【5†source】.\", llm_context=[]), RunData(scores={'answer_similarity': 1.0}, reference_question='What are the key factors identified by Paul Graham that contribute to the success of startups in America?', reference_answer=\"Paul Graham identifies several key factors contributing to the success of startups in America, including the country's openness to immigration, its wealth and infrastructure, the absence of a police state, the quality of American universities, flexible employment laws that allow for easy hiring and firing, an economic model where work is less identified with employment, a less fussy regulatory environment for small businesses, a large domestic market, availability of venture funding, and a dynamic approach to career development.\", llm_answer='Paul Graham identifies several key factors that contribute to the success of startups in America, as outlined in his essay \"Startups in 13 Sentences\":\\n\\n1. **Pick Good Cofounders:** Similar to how location is paramount in real estate, choosing the right cofounders is crucial for startups. While ideas can change, changing cofounders is challenging and the startup’s success is often a function of its founders.\\n   \\n2. **Launch Fast:** Launching quickly is important not because getting your product out early is crucial, but because launching teaches you what you should have been building all along.\\n\\n3. **Let Your Idea Evolve:** Treating a startup as merely a matter of implementing a brilliant initial idea is a mistake. Like in writing an essay, most of the ideas come during the process of implementation.\\n\\n4. **Understand Your Users:** Visualizing the wealth created by a startup as a rectangle, the growth is driven by the number of users and how much you improve their lives. The latter dimension is under more control and essential for growth.\\n\\n5. **Better to Make a Few Users Love You:** It is more important initially to make a small number of users love you than to make many users semi-happy. This can help in focusing the product\\'s direction and is more achievable in early stages.\\n\\n6. **Offer Surprisingly Good Customer Service:** Exceptional customer service can set you apart and is a method of learning about your users in the early stages.\\n\\n7. **You Make What You Measure:** Measuring something tends to improve it. Being mindful of what you measure is crucial for directing efforts and improving your product or service.\\n\\n8. **Spend Little:** Conservation of financial resources is critical. Most startups fail from running out of money before making something people want. A culture of frugality also keeps companies agile.\\n\\n9. **Get Ramen Profitable:** Achieving a level of profitability where the startup can pay the founders\\' living expenses changes the dynamic with investors and boosts morale.\\n\\n10. **Avoid Distractions:** Distractions, especially those that seem lucrative in the short term, can be detrimental to a startup\\'s success.\\n\\n11. **Don\\'t Get Demoralized:** Maintaining focus and not getting demoralized by challenges is key. The underlying cause of failure is often a lack of focus, not merely running out of resources.\\n\\n12. **Don\\'t Give Up:** Persistence is crucial. Continuously morphing your idea based on feedback and keeping the effort high can lead to surprising successes.\\n\\n13. **Deals Fall Through:** Understanding that not all deals will come to fruition helps maintain morale and focus. Treating potential deals as background processes until they are finalized is a useful strategy.\\n\\nAmong these factors, if Graham had to choose one as the most critical, it would be to understand your users. This is a recurring theme in many of the principles listed【5†source】.', llm_context=[]), RunData(scores={'answer_similarity': 5.0}, reference_question='What is the main reason Paul Graham dislikes the term \"computer science\"? ', reference_answer='Paul Graham dislikes the term \"computer science\" primarily because he believes there is no such thing, describing it as a grab bag of tenuously related areas grouped together by an accident of history. He also criticizes the blending of distinct disciplines such as mathematics, natural history of computers, and hacking under this umbrella, which he finds intellectually confusing.', llm_answer='Paul Graham dislikes the term \"computer science\" for a couple of main reasons. First, he doesn\\'t like it because he believes there\\'s no such thing as computer science. He describes computer science as a \"grab bag of tenuously related areas thrown together by an accident of history, like Yugoslavia.\" This analogy highlights his view that the field is artificially conglomerated from disparate areas of study that may not have much in common, ranging from mathematics to the practical aspects of software development【5†source】.\\n\\nSecond, Graham critiques the term because it bundles together different types of work that, in his view, should not be administratively or intellectually conflated. He argues that this bundling is convenient administratively but confusing intellectually. Specifically, he mentions that while some work in the field might be akin to experimental science, the endeavors of hackers (who are trying to write interesting software) and mathematicians (focused on proving theorems) are not actually doing science. This labeling, particularly the application of \"science\" to what hackers do, can mislead them into feeling they should be acting in a scientifically rigorous manner, which might detract from their main interest in designing beautiful software【5†source】.', llm_context=[]), RunData(scores={'answer_similarity': 5.0}, reference_question='Who are considered accredited investors according to the SEC, and why is it important for a startup to have accredited investors? ', reference_answer='The SEC defines an \"accredited investor\" as someone with over a million dollars in liquid assets or an income of over $200,000 a year. It is important for a startup to have accredited investors because the regulatory burden is much lower if a company\\'s shareholders are all accredited investors. Once a startup takes money from the general public, they are more restricted in what they can do, and having non-accredited investors could complicate the startup\\'s life legally, potentially affecting actions like an IPO due to the need for immediate action to cure any past violations of securities laws.', llm_answer='According to the SEC, an \"accredited investor\" is defined as someone with over a million dollars in liquid assets or an income of over $200,000 a year. It is important for a startup to have accredited investors primarily because the regulatory burden is significantly lower when all of a company\\'s shareholders are accredited investors. In contrast, once a company takes money from the general public, it becomes more restricted in its actions. Ensuring all investors are accredited simplifies a startup\\'s life legally; non-compliance can complicate or even jeopardize significant business milestones, like an Initial Public Offering (IPO). Specifically, if a company goes public, the SEC will meticulously examine all previous stock issues and demand immediate action to rectify any past violations of securities laws. These actions can delay, stall, or even stop the IPO process entirely【7:0†all_essays_in_single_file.txt】.', llm_context=[]), RunData(scores={'answer_similarity': 5.0}, reference_question=\"What reasons did Paul Graham identify for hackers' renewed interest in Mac computers by 2005?\", reference_answer=\"Paul Graham identified several reasons for hackers' renewed interest in Mac computers by 2005, including the introduction of OS X, which runs FreeBSD and is noted for its powerful capabilities and beautiful design. The shift back to Macs was not only due to their technical specifications but also their aesthetic appeal and the allure of well-designed hardware, reflecting a return to values that aligned with the canonical hacker's computer of the past. This trend indicated a broader acceptance of Macs among hardcore OS hackers and tech enthusiasts who prioritize both form and function in their computing devices.\", llm_answer=\"Paul Graham identified several reasons for hackers' renewed interest in Mac computers around 2005:\\n\\n1. **Transition to OS X**: The primary reason was the introduction and adoption of OS X. This operating system combined the aesthetic and functional design of Mac hardware with the power of FreeBSD, offering a compelling platform for hardcore OS hackers beyond the traditional Mac user base of graphic designers and less technical users.\\n\\n2. **Hardware Design**: Mac computers, particularly Powerbooks, were noted for their beautiful design, which appealed to users who also valued the aesthetic aspect of their tools. This was a significant factor at a time when design-conscious options in the PC world were limited.\\n\\n3. **Historical Resonance**: For many in the hacker community, moving to Macs wasn't seen just as a switch but rather as a return to their roots. The Mac was regarded as the canonical hacker's computer in its early days due to its power, affordability, and especially its innovative and excellent design. This nostalgia and the positive historical association played a role in attracting hackers back to the Mac platform.\\n\\n4. **Community and Identity**: Graham notes the importance of the hacker community's preferences, suggesting that what hackers are doing now, others will be doing in ten years. He cites the influence of hackers' choices on broader computing trends and suggests that the move back to Mac among hackers is a bellwether for broader shifts in the technology landscape.\\n\\n5. **Personal Preferences in Tools and Platforms**: The essay also touches upon the idea that great hackers tend to develop novel software for the platforms they personally use, which influences the broader market. The preference of hackers for the Mac, fueled by the factors above, could lead to more innovative software being developed for it, further increasing its appeal.\\n\\nThis convergence of OS X's capabilities, Mac's design ethos, nostalgic value, and the influence of the hacker community's choices contributed to the revived interest in Macs among hackers by 2005【5†source】.\", llm_context=[]), RunData(scores={'answer_similarity': 0.0}, reference_question='What significant change in the startup funding landscape did Paul Graham discuss in his August 2010 essay, \"The Future of Startup Funding\"?', reference_answer='Paul Graham discussed the significant change of a growing disconnect between traditional venture capitalists (VCs), who invest large amounts, and a large class of startups that need less funding than before. He observed that increasingly, startups were seeking a couple hundred thousand dollars, not a couple million, leading to a rise in smaller, angel-sized investments from both VCs and a new type of investor, the super-angel. This shift represents a move towards more flexible, founder-friendly funding models.', llm_answer='None', llm_context=[]), RunData(scores={'answer_similarity': 5.0}, reference_question='What is the method proposed by Paul Graham to detect bias in selection processes, and how does it work?', reference_answer=\"Paul Graham proposes a method to detect bias in selection processes without needing detailed information about the entire applicant pool. This method can be applied when there is at least a random sample of selected applicants available, their subsequent performance is measurable, and the groups being compared have a roughly similar distribution of abilities. The concept revolves around the understanding that bias makes it harder for certain types of applicants to be selected, meaning those who are selected despite the bias are likely to be exceptionally competent. Thus, if these selected individuals outperform their peers, it could indicate the presence of bias in the selection process. The method's validity relies on the performance test being unaffected by the bias being investigated. For instance, detecting bias against female founders in venture capital could involve examining if startups with female founders perform better than those without. Graham illustrates this with the example of First Round Capital, which inadvertently showed such bias by reporting that startups with female founders performed better than those without by 63%. This approach does not just help detect bias but also offers a tangible definition of what bias entails in selection processes.\", llm_answer='Paul Graham proposes a method to detect bias in selection processes that does not require knowledge about the applicant pool. This method can be applied whenever (1) at least a random sample of the selected applicants is available, (2) their subsequent performance is measured, and (3) the groups of applicants being compared have a roughly equal distribution of ability. The principle behind this method is that if a selection process is biased against applicants of a specific type, it means these applicants must be better to get selected than those not of that type. Consequently, if applicants of type x do get selected, they will outperform other successful applicants. To determine if the selection process was biased against a certain type of applicant, one should check whether they outperform the others. This approach is based on the idea that detecting bias is straightforward in domains where performance can be reliably measured, thereby making it an effective way to reveal biases in the selection process【7:0†source】.', llm_context=[]), RunData(scores={'answer_similarity': 5.0}, reference_question='What is the primary advice Paul Graham gives when it comes to choosing what to imitate in the process of learning and creating?', reference_answer='Paul Graham advises only copying what you genuinely like to avoid the mistake of imitating the wrong aspects of any field, suggesting that personal enjoyment and interest should guide what one chooses to imitate.', llm_answer='Paul Graham\\'s primary advice when it comes to choosing what to imitate in the process of learning and creating is to \"Copy only what you genuinely like\"【11†source】. He emphasizes the importance of distinguishing between things you are genuinely interested in and things you admire because they are well-regarded by others. This principle, he believes, can save individuals from wasting their time on endeavors that do not truly interest them. Graham points out that it can be challenging to separate things one likes from things one is merely impressed with, but doing so is crucial for authentic learning and creativity.', llm_context=[])], id=None)"
      ]
     },
     "execution_count": 32,
     "metadata": {},
     "output_type": "execute_result"
    }
   ],
   "source": [
    "openai_run"
   ]
  },
  {
   "cell_type": "code",
   "execution_count": 26,
   "metadata": {
    "id": "TK-JuvgfHKD2"
   },
   "outputs": [],
   "source": [
    "openai_run_df = run_to_dataframe(openai_run)\n",
    "openai_run_df.to_csv(\"openai_run.csv\", index=False)"
   ]
  },
  {
   "cell_type": "code",
   "execution_count": 27,
   "metadata": {},
   "outputs": [],
   "source": [
    "# Load csv\n",
    "openai_run_df = pd.read_csv(\"openai_run.csv\")"
   ]
  },
  {
   "cell_type": "code",
   "execution_count": 31,
   "metadata": {},
   "outputs": [
    {
     "data": {
      "text/html": [
       "<div>\n",
       "<style scoped>\n",
       "    .dataframe tbody tr th:only-of-type {\n",
       "        vertical-align: middle;\n",
       "    }\n",
       "\n",
       "    .dataframe tbody tr th {\n",
       "        vertical-align: top;\n",
       "    }\n",
       "\n",
       "    .dataframe thead th {\n",
       "        text-align: right;\n",
       "    }\n",
       "</style>\n",
       "<table border=\"1\" class=\"dataframe\">\n",
       "  <thead>\n",
       "    <tr style=\"text-align: right;\">\n",
       "      <th></th>\n",
       "      <th>answer_similarity</th>\n",
       "    </tr>\n",
       "  </thead>\n",
       "  <tbody>\n",
       "    <tr>\n",
       "      <th>count</th>\n",
       "      <td>25.000000</td>\n",
       "    </tr>\n",
       "    <tr>\n",
       "      <th>mean</th>\n",
       "      <td>4.440000</td>\n",
       "    </tr>\n",
       "    <tr>\n",
       "      <th>std</th>\n",
       "      <td>1.556706</td>\n",
       "    </tr>\n",
       "    <tr>\n",
       "      <th>min</th>\n",
       "      <td>0.000000</td>\n",
       "    </tr>\n",
       "    <tr>\n",
       "      <th>25%</th>\n",
       "      <td>5.000000</td>\n",
       "    </tr>\n",
       "    <tr>\n",
       "      <th>50%</th>\n",
       "      <td>5.000000</td>\n",
       "    </tr>\n",
       "    <tr>\n",
       "      <th>75%</th>\n",
       "      <td>5.000000</td>\n",
       "    </tr>\n",
       "    <tr>\n",
       "      <th>max</th>\n",
       "      <td>5.000000</td>\n",
       "    </tr>\n",
       "  </tbody>\n",
       "</table>\n",
       "</div>"
      ],
      "text/plain": [
       "       answer_similarity\n",
       "count          25.000000\n",
       "mean            4.440000\n",
       "std             1.556706\n",
       "min             0.000000\n",
       "25%             5.000000\n",
       "50%             5.000000\n",
       "75%             5.000000\n",
       "max             5.000000"
      ]
     },
     "execution_count": 31,
     "metadata": {},
     "output_type": "execute_result"
    }
   ],
   "source": [
    "openai_run_df.describe()"
   ]
  },
  {
   "cell_type": "code",
   "execution_count": 16,
   "metadata": {
    "id": "wqz2640HHKD2"
   },
   "outputs": [
    {
     "data": {
      "image/png": "[encoded data removed]",
      "text/plain": [
       "<Figure size 640x480 with 1 Axes>"
      ]
     },
     "metadata": {},
     "output_type": "display_data"
    }
   ],
   "source": [
    "openai_answer_similarity_scores = pd.Series([x.scores[\"answer_similarity\"] for x in openai_run.run_data])\n",
    "category_counts = openai_answer_similarity_scores.value_counts()\n",
    "plt.bar(category_counts.index, category_counts.values)\n",
    "\n",
    "plt.title('Distribution of scores for OpenAI')\n",
    "plt.xlabel('Score')\n",
    "plt.ylabel('Count')\n",
    "\n",
    "plt.bar(category_counts.index, category_counts.values, color='#A679C8')\n",
    "\n",
    "# Remove all scores except whole numbers\n",
    "plt.xticks(range(0, 6, 1))\n",
    "\n",
    "plt.show()"
   ]
  },
  {
   "cell_type": "code",
   "execution_count": 17,
   "metadata": {
    "id": "Y0CBqhk7HKD2"
   },
   "outputs": [
    {
     "data": {
      "image/png": "[encoded data removed]",
      "text/plain": [
       "<Figure size 1000x500 with 1 Axes>"
      ]
     },
     "metadata": {},
     "output_type": "display_data"
    }
   ],
   "source": [
    "import matplotlib.pyplot as plt\n",
    "import numpy as np\n",
    "\n",
    "openai_run_df = pd.read_csv(\"openai_run.csv\")\n",
    "customgpt_run_df = pd.read_csv(\"customgpt_run.csv\")\n",
    "\n",
    "combined_scores = pd.DataFrame({\n",
    "    \"OpenAI\": list(openai_run_df[\"answer_similarity\"]),\n",
    "    \"CustomGPT\": list(customgpt_run_df[\"answer_similarity\"])\n",
    "})\n",
    "\n",
    "# Position of bars on x-axis\n",
    "ind = np.arange(6)\n",
    "\n",
    "# Figure size\n",
    "plt.figure(figsize=(10,5))\n",
    "\n",
    "# Width of a bar\n",
    "width = 0.3\n",
    "\n",
    "openai_counts = combined_scores[\"OpenAI\"].value_counts().reindex([0,1,2,3,4,5], fill_value=0)\n",
    "plt.bar(openai_counts.index, openai_counts.values, width, label=\"OpenAI\", color=\"#5EA7EC\")\n",
    "\n",
    "customgpt_counts = combined_scores[\"CustomGPT\"].value_counts().reindex([0,1,2,3,4,5], fill_value=0)\n",
    "plt.bar(customgpt_counts.index + width, customgpt_counts.values, width, label=\"CustomGPT\", color=\"#A679C8\")\n",
    "\n",
    "plt.title('Distribution of scores for OpenAI & CustomGPT')\n",
    "plt.xlabel('Answer Similarity Score')\n",
    "plt.ylabel('Count')\n",
    "\n",
    "# Remove all scores except whole numbers\n",
    "plt.xticks(ind + width / 2, range(0, 6, 1))\n",
    "\n",
    "plt.legend(loc='best')\n",
    "\n",
    "# Rounding the descriptive statistics to 3 significant figures\n",
    "statistics_df = combined_scores.describe()\n",
    "# Change 50% to 50% (median)\n",
    "statistics_df = statistics_df.rename(index={'50%': 'median'})\n",
    "rounded_statistics_df = statistics_df.round(3)\n",
    "\n",
    "# Transposing the descriptive statistics table for horizontal display\n",
    "rounded_statistics_df = rounded_statistics_df.T\n",
    "\n",
    "# Adding the table below the histogram\n",
    "table = plt.table(cellText=rounded_statistics_df.values,\n",
    "                  colWidths=[0.1] * len(rounded_statistics_df.columns),\n",
    "                  rowLabels=rounded_statistics_df.index,\n",
    "                  colLabels=rounded_statistics_df.columns,\n",
    "                  cellLoc = 'center', rowLoc = 'center',\n",
    "                  loc='bottom', bbox=[0.0, -0.5, 1.0, 0.3])\n",
    "\n",
    "plt.subplots_adjust(left=0.2, bottom=0.3)\n",
    "plt.savefig(\"openai_v_customgpt.png\", facecolor='white', bbox_inches='tight')\n",
    "\n",
    "plt.show()"
   ]
  }
 ],
 "metadata": {
  "colab": {
   "provenance": []
  },
  "kernelspec": {
   "display_name": ".venv",
   "language": "python",
   "name": "python3"
  },
  "language_info": {
   "codemirror_mode": {
    "name": "ipython",
    "version": 3
   },
   "file_extension": ".py",
   "mimetype": "text/x-python",
   "name": "python",
   "nbconvert_exporter": "python",
   "pygments_lexer": "ipython3",
   "version": "3.11.7"
  }
 },
 "nbformat": 4,
 "nbformat_minor": 4
}
