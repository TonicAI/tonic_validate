{
 "cells": [
  {
   "cell_type": "markdown",
   "id": "074e394b",
   "metadata": {},
   "source": [
    "# Llama Index x Tonic Validate Webinar\n",
    "\n",
    "In the spirit of [Llama Index's starter tutorial](https://gpt-index.readthedocs.io/en/stable/getting_started/starter_example.html) and Andrej Karpathy's [Unreasonable Effectiveness of RNNs blog post](http://karpathy.github.io/2015/05/21/rnn-effectiveness/), we start with an example of a RAG system where the document set consists of Paul Graham essays. (Footnote: The Paul Graham essay text files used were derived from the dataset of Paul Graham essays found in [paul-graham-gpt](https://github.com/mckaywrigley/paul-graham-gpt) github project.)\n",
    "\n",
    "In this notebook, we set up a simple RAG system using llama index, llama2, and BAAI/bge-small-en-v1.5. We then evaluate the RAG system using 10 predetermined questions and answers about Paul Graham essays. The Paul Graham essays that make up the document set are the 6 essays that have the word founder in the title."
   ]
  },
  {
   "cell_type": "markdown",
   "id": "c0b3ee69",
   "metadata": {},
   "source": [
    "Set up a simple llama index RAG system that uses the default LlamaIndex parameters. The default LlamaIndex parameters use Open AIs ada-002 embedding model as the embedder and gpt-3.5-turbo as the LLM."
   ]
  },
  {
   "cell_type": "code",
   "execution_count": 1,
   "id": "14c362a3",
   "metadata": {},
   "outputs": [
    {
     "name": "stderr",
     "output_type": "stream",
     "text": [
      "c:\\Users\\EthanPhilpott\\AppData\\Local\\Programs\\Python\\Python311\\Lib\\site-packages\\tqdm\\auto.py:21: TqdmWarning: IProgress not found. Please update jupyter and ipywidgets. See https://ipywidgets.readthedocs.io/en/stable/user_install.html\n",
      "  from .autonotebook import tqdm as notebook_tqdm\n"
     ]
    }
   ],
   "source": [
    "from llama_index.llms.ollama import Ollama\n",
    "from llama_index.core import Settings\n",
    "from llama_index.core import VectorStoreIndex, SimpleDirectoryReader, Response\n",
    "from llama_index.embeddings.huggingface import HuggingFaceEmbedding\n",
    "from tonic_validate import CallbackLLMResponse\n",
    "\n",
    "Settings.embed_model = HuggingFaceEmbedding(\n",
    "    model_name=\"BAAI/bge-small-en-v1.5\"\n",
    ")\n",
    "\n",
    "Settings.llm = Ollama(model=\"llama2:70b-chat\", base_url=\"http://54.235.13.59:8080\", request_timeout=180.0)\n",
    "\n",
    "documents = SimpleDirectoryReader(\"../paul_graham_essays\").load_data()\n",
    "index = VectorStoreIndex.from_documents(documents)\n",
    "query_engine = index.as_query_engine()\n",
    "\n",
    "# Gets the response from llama index\n",
    "def get_llama_response(prompt) -> CallbackLLMResponse:\n",
    "    response = query_engine.query(prompt)\n",
    "    # Check response is of type Response\n",
    "    if not isinstance(response, Response):\n",
    "        raise ValueError(f\"Expected Response, got {type(response)}\")\n",
    "    \n",
    "    context = [x.text for x in response.source_nodes]\n",
    "    answer = response.response\n",
    "    if answer is None:\n",
    "        raise ValueError(\"No response from Llama\")\n",
    "    \n",
    "    return {\n",
    "        \"llm_answer\": answer,\n",
    "        \"llm_context_list\": context\n",
    "    }"
   ]
  },
  {
   "cell_type": "markdown",
   "id": "45f08b09",
   "metadata": {},
   "source": [
    "Load 10 questions and answers about the Paul Graham essays as a benchmark for how the RAG system should answer questions."
   ]
  },
  {
   "cell_type": "code",
   "execution_count": 2,
   "id": "c945cbab",
   "metadata": {},
   "outputs": [],
   "source": [
    "import json\n",
    "qa_pairs = []\n",
    "with open(\"../question_and_answer_list.json\", \"r\") as qa_file:\n",
    "    qa_pairs = json.load(qa_file)[:10]"
   ]
  },
  {
   "cell_type": "markdown",
   "id": "c79df11d",
   "metadata": {},
   "source": [
    "Let's inspect an example, question, answer from the RAG system and reference answer."
   ]
  },
  {
   "cell_type": "code",
   "execution_count": 3,
   "id": "8cdbf45a",
   "metadata": {},
   "outputs": [
    {
     "data": {
      "text/plain": [
       "{'question': 'What makes Sam Altman a good founder?',\n",
       " 'answer': 'He has a great force of will.',\n",
       " 'reference_article': 'Five Founders',\n",
       " 'reference_text': '5. Sam Altman\\n\\nI was told I shouldn\\'t mention founders of YC-funded companies in this list. But Sam Altman can\\'t be stopped by such flimsy rules. If he wants to be on this list, he\\'s going to be.\\n\\nHonestly, Sam is, along with Steve Jobs, the founder I refer to most when I\\'m advising startups. On questions of design, I ask \"What would Steve do?\" but on questions of strategy or ambition I ask \"What would Sama do?\"\\n\\nWhat I learned from meeting Sama is that the doctrine of the elect applies to startups. It applies way less than most people think: startup investing does not consist of trying to pick winners the way you might in a horse race. But there are a few people with such force of will that they\\'re going to get whatever they want.'}"
      ]
     },
     "execution_count": 3,
     "metadata": {},
     "output_type": "execute_result"
    }
   ],
   "source": [
    "example_qa = qa_pairs[0]\n",
    "example_qa"
   ]
  },
  {
   "cell_type": "code",
   "execution_count": 4,
   "id": "94b57275",
   "metadata": {},
   "outputs": [
    {
     "data": {
      "text/plain": [
       "{'llm_answer': \"Sam Altman's ability to make deals and his determination are qualities that make him a good founder. According to Paul Graham's essay, Sam Altman has the quality of being able to take care of himself and his company, which investors like to see in startups. Additionally, Graham notes that successful startup founders are often intellectually contrarian, meaning they can spot novel ideas that others may not see as good or valuable. Altman's ability to make deals and bring people together suggests he possesses this quality. Finally, Graham states that the most reliable way to become a billionaire is by starting a company that grows fast and focusing on making what users want, which Altman has achieved with his company, OpenAI.\",\n",
       " 'llm_context_list': ['You can\\'t plan when you start a startup how long it will take to become profitable. But if you find yourself in a position where a little more effort expended on sales would carry you over the threshold of ramen profitable, do it. Investors like it when you\\'re ramen profitable. It shows you\\'ve thought about making money, instead of just working on amusing technical problems; it shows you have the discipline to keep your expenses low; but above all, it means you don\\'t need them. There is nothing investors like more than a startup that seems like it\\'s going to succeed even without them. Investors like it when they can help a startup, but they don\\'t like startups that would die without that help. At YC we spend a lot of time trying to predict how the startups we\\'ve funded will do, because we\\'re trying to learn how to pick winners. We\\'ve now watched the trajectories of so many startups that we\\'re getting better at predicting them. And when we\\'re talking about startups we think are likely to succeed, what we find ourselves saying is things like \"Oh, those guys can take care of themselves. They\\'ll be fine.\" Not \"those guys are really smart\" or \"those guys are working on a great idea.\" [6] When we predict good outcomes for startups, the qualities that come up in the supporting arguments are toughness, adaptability, determination. Which means to the extent we\\'re correct, those are the qualities you need to win. Investors know this, at least unconsciously. The reason they like it when you don\\'t need them is not simply that they like what they can\\'t have, but because that quality is what makes founders succeed. Sam Altman has it. You could parachute him into an island full of cannibals and come back in 5 years and he\\'d be the king. If you\\'re Sam Altman, you don\\'t have to be profitable to convey to investors that you\\'ll succeed with or without them. (He wasn\\'t, and he did.) Not everyone has Sam\\'s deal-making ability. I myself don\\'t. But if you don\\'t, you can let the numbers speak for you. 6. Don\\'t take rejection personally. Getting rejected by investors can make you start to doubt yourself. After all, they\\'re more experienced than you. If they think your startup is lame, aren\\'t they probably right?Maybe, maybe not. The way to handle rejection is with precision. You shouldn\\'t simply ignore rejection. It might mean something. But you shouldn\\'t automatically get demoralized either. To understand what rejection means, you have to understand first of all how common it is. Statistically, the average VC is a rejection machine. David Hornik, a partner at August, told me: The numbers for me ended up being something like 500 to 800 plans received and read, somewhere between 50 and 100 initial 1 hour meetings held, about 20 companies that I got interested in, about 5 that I got serious about and did a bunch of work, 1 to 2 deals done in a year. So the odds are against you. You may be a great entrepreneur, working on interesting stuff, etc. but it is still incredibly unlikely that you get funded. This is less true with angels, but VCs reject practically everyone. The structure of their business means a partner does at most 2 new investments a year, no matter how many good startups approach him. In addition to the odds being terrible, the average investor is, as I mentioned, a pretty bad judge of startups. It\\'s harder to judge startups than most other things, because great startup ideas tend to seem wrong. A good startup idea has to be not just good but novel. And to be both good and novel, an idea probably has to seem bad to most people, or someone would already be doing it and it wouldn\\'t be novel. That makes judging startups harder than most other things one judges. You have to be an intellectual contrarian to be a good startup investor. That\\'s a problem for VCs, most of whom are not particularly imaginative. VCs are mostly money guys, not people who make things. [7] Angels are better at appreciating novel ideas, because most were founders themselves. So when you get a rejection, use the data that\\'s in it, and not what\\'s not. If an investor gives you specific reasons for not investing, look at your startup and ask if they\\'re right. If they\\'re real problems, fix them. But don\\'t just take their word for it.',\n",
       "  \"The last two are more powerful motivators than the first two. It's ok for founders to want to make money or to seem cool. Most do. But if the founders seem like they're doing it just to make money or just to seem cool, they're not likely to succeed on a big scale. The founders who are doing it for the money will take the first sufficiently large acquisition offer, and the ones who are doing it to seem cool will rapidly discover that there are much less painful ways of seeming cool. [3]Y Combinator certainly sees founders whose m. o. is to exploit people. YC is a magnet for them, because they want the YC brand. But when the YC partners detect someone like that, they reject them. If bad people made good founders, the YC partners would face a moral dilemma. Fortunately they don't, because bad people make bad founders. This exploitative type of founder is not going to succeed on a large scale, and in fact probably won't even succeed on a small one, because they're always going to be taking shortcuts. They see YC itself as a shortcut. Their exploitation usually begins with their own cofounders, which is disastrous, since the cofounders' relationship is the foundation of the company. Then it moves on to the users, which is also disastrous, because the sort of early adopters a successful startup wants as its initial users are the hardest to fool. The best this kind of founder can hope for is to keep the edifice of deception tottering along until some acquirer can be tricked into buying it. But that kind of acquisition is never very big. [4]If professional billionaire scouts know that exploiting people is not the skill to look for, why do some politicians think this is the defining quality of billionaires?I think they start from the feeling that it's wrong that one person could have so much more money than another. It's understandable where that feeling comes from. It's in our DNA, and even in the DNA of other species. If they limited themselves to saying that it made them feel bad when one person had so much more money than other people, who would disagree? It makes me feel bad too, and I think people who make a lot of money have a moral obligation to use it for the common good. The mistake they make is to jump from feeling bad that some people are much richer than others to the conclusion that there's no legitimate way to make a very large amount of money. Now we're getting into statements that are not only falsifiable, but false. There are certainly some people who become rich by doing bad things. But there are also plenty of people who behave badly and don't make that much from it. There is no correlation � in fact, probably an inverse correlation � between how badly you behave and how much money you make. The greatest danger of this nonsense may not even be that it sends policy astray, but that it misleads ambitious people. Can you imagine a better way to destroy social mobility than by telling poor kids that the way to get rich is by exploiting people, while the rich kids know, from having watched the preceding generation do it, how it's really done?I'll tell you how it's really done, so you can at least tell your own kids the truth. It's all about users. The most reliable way to become a billionaire is to start a company that grows fast, and the way to grow fast is to make what users want. Newly started startups have no choice but to delight users, or they'll never even get rolling. But this never stops being the lodestar, and bigger companies take their eye off it at their peril. Stop delighting users, and eventually someone else will. Users are what the partners want to know about in YC interviews, and what I want to know about when I talk to founders that we funded ten years ago and who are billionaires now. What do users want? What new things could you build for them? Founders who've become billionaires are always eager to talk about that topic. That's how they became billionaires. Notes[1] The YC partners have so much practice doing this that they sometimes see paths that the founders themselves haven't seen yet. The partners don't try to seem skeptical, as buyers in transactions often do to increase their leverage. Although the founders feel their job is to convince the partners of the potential of their idea, these roles are not infrequently reversed, and the founders leave the interview feeling their idea has more potential than they realized.[2] In practice, 7 minutes would be enough. You rarely change your mind at minute 8.\"]}"
      ]
     },
     "execution_count": 4,
     "metadata": {},
     "output_type": "execute_result"
    }
   ],
   "source": [
    "get_llama_response(example_qa[\"question\"])"
   ]
  },
  {
   "cell_type": "markdown",
   "id": "904df61d",
   "metadata": {},
   "source": [
    "Now let's set up the benchmark for Tonic Validate using the QA pairs"
   ]
  },
  {
   "cell_type": "code",
   "execution_count": 5,
   "id": "f561d8e5",
   "metadata": {},
   "outputs": [],
   "source": [
    "from tonic_validate import Benchmark\n",
    "question_list = [qa_pair['question'] for qa_pair in qa_pairs]\n",
    "answer_list = [qa_pair['answer'] for qa_pair in qa_pairs]\n",
    "\n",
    "benchmark = Benchmark(questions=question_list, answers=answer_list)"
   ]
  },
  {
   "cell_type": "markdown",
   "id": "49a255c6",
   "metadata": {},
   "source": [
    "Set up the scorer from Tonic Validate to score the run."
   ]
  },
  {
   "cell_type": "code",
   "execution_count": 6,
   "id": "262ed013",
   "metadata": {},
   "outputs": [],
   "source": [
    "# Save the responses into an array for scoring\n",
    "from tonic_validate import LLMResponse\n",
    "\n",
    "\n",
    "responses = []\n",
    "for item in benchmark:\n",
    "    rag_response = get_llama_response(item.question)\n",
    "    llm_response = LLMResponse(\n",
    "        llm_answer=rag_response[\"llm_answer\"],\n",
    "        llm_context_list=rag_response[\"llm_context_list\"],\n",
    "        benchmark_item=item\n",
    "    )\n",
    "    responses.append(llm_response)"
   ]
  },
  {
   "cell_type": "code",
   "execution_count": 7,
   "id": "8a9b1901",
   "metadata": {},
   "outputs": [],
   "source": [
    "# Save the responses to a pickle file\n",
    "import os\n",
    "import pickle\n",
    "# Check if pickle file exists\n",
    "file_name = \"llm_responses.pkl\"\n",
    "if not os.path.exists(file_name):\n",
    "    with open(file_name, \"wb\") as f:\n",
    "        pickle.dump(responses, f)\n",
    "        "
   ]
  },
  {
   "cell_type": "code",
   "execution_count": 4,
   "id": "0f13c6a6",
   "metadata": {},
   "outputs": [],
   "source": [
    "# load the responses from the pickle file\n",
    "import pickle\n",
    "with open(\"llm_responses.pkl\", \"rb\") as f:\n",
    "    responses = pickle.load(f)"
   ]
  },
  {
   "cell_type": "code",
   "execution_count": 5,
   "id": "4b585568",
   "metadata": {},
   "outputs": [
    {
     "name": "stderr",
     "output_type": "stream",
     "text": [
      "Scoring responses: 100%|██████████| 10/10 [12:05<00:00, 72.54s/it]\n"
     ]
    }
   ],
   "source": [
    "from tonic_validate import ValidateScorer\n",
    "import os\n",
    "\n",
    "os.environ[\"OPENAI_BASE_URL\"] = \"http://54.235.13.59:8080/v1\"\n",
    "scorer = ValidateScorer(model_evaluator=\"llama2:70b-chat\")\n",
    "response_scores = scorer.score_responses(responses)"
   ]
  },
  {
   "cell_type": "markdown",
   "id": "e0de9cc5-479d-46a2-a8eb-821436ac7e8d",
   "metadata": {},
   "source": [
    "Put the scores into a dataframe for easy viewing."
   ]
  },
  {
   "cell_type": "code",
   "execution_count": 10,
   "id": "f5432a16-53b3-4f05-bba0-066a6fcf7d19",
   "metadata": {},
   "outputs": [],
   "source": [
    "import pandas as pd\n",
    "\n",
    "def make_scores_df(response_scores):\n",
    "    scores_df = {\n",
    "        \"question\": [],\n",
    "        \"reference_answer\": [],\n",
    "        \"llm_answer\": [],\n",
    "        \"retrieved_context\": []\n",
    "    }\n",
    "    for score_name in response_scores.overall_scores:\n",
    "        scores_df[score_name] = []\n",
    "    for data in response_scores.run_data:\n",
    "        scores_df[\"question\"].append(data.reference_question)\n",
    "        scores_df[\"reference_answer\"].append(data.reference_answer)\n",
    "        scores_df[\"llm_answer\"].append(data.llm_answer)\n",
    "        scores_df[\"retrieved_context\"].append(data.llm_context)\n",
    "        for score_name, score in data.scores.items():\n",
    "            scores_df[score_name].append(score)\n",
    "    return pd.DataFrame(scores_df)\n",
    "            "
   ]
  },
  {
   "cell_type": "code",
   "execution_count": 7,
   "id": "319b1c47-c816-4d77-bd33-1606f733c0a3",
   "metadata": {},
   "outputs": [],
   "source": [
    "scores_df = make_scores_df(response_scores)"
   ]
  },
  {
   "cell_type": "code",
   "execution_count": 8,
   "id": "76d0cec9-2d08-4b7b-a4f0-9ca865a284a2",
   "metadata": {},
   "outputs": [
    {
     "data": {
      "text/html": [
       "<div>\n",
       "<style scoped>\n",
       "    .dataframe tbody tr th:only-of-type {\n",
       "        vertical-align: middle;\n",
       "    }\n",
       "\n",
       "    .dataframe tbody tr th {\n",
       "        vertical-align: top;\n",
       "    }\n",
       "\n",
       "    .dataframe thead th {\n",
       "        text-align: right;\n",
       "    }\n",
       "</style>\n",
       "<table border=\"1\" class=\"dataframe\">\n",
       "  <thead>\n",
       "    <tr style=\"text-align: right;\">\n",
       "      <th></th>\n",
       "      <th>question</th>\n",
       "      <th>reference_answer</th>\n",
       "      <th>llm_answer</th>\n",
       "      <th>retrieved_context</th>\n",
       "      <th>answer_similarity</th>\n",
       "      <th>augmentation_precision</th>\n",
       "      <th>answer_consistency</th>\n",
       "    </tr>\n",
       "  </thead>\n",
       "  <tbody>\n",
       "    <tr>\n",
       "      <th>0</th>\n",
       "      <td>What makes Sam Altman a good founder?</td>\n",
       "      <td>He has a great force of will.</td>\n",
       "      <td>According to Paul Graham's essay, Sam Altman i...</td>\n",
       "      <td>[You can't plan when you start a startup how l...</td>\n",
       "      <td>4.0</td>\n",
       "      <td>1.0</td>\n",
       "      <td>0.666667</td>\n",
       "    </tr>\n",
       "    <tr>\n",
       "      <th>1</th>\n",
       "      <td>When was the essay \"Five Founders\" written?</td>\n",
       "      <td>April 2009</td>\n",
       "      <td>The essay \"Five Founders\" was written in April...</td>\n",
       "      <td>[Written by Paul Graham\\r\\n\\r\\nFive Founders\\r...</td>\n",
       "      <td>5.0</td>\n",
       "      <td>1.0</td>\n",
       "      <td>1.000000</td>\n",
       "    </tr>\n",
       "    <tr>\n",
       "      <th>2</th>\n",
       "      <td>When does the most dramatic growth happen for ...</td>\n",
       "      <td>When the startup only has three or four people.</td>\n",
       "      <td>According to the provided text, the most drama...</td>\n",
       "      <td>[Written by Paul Graham\\r\\n\\r\\nStartup = Growt...</td>\n",
       "      <td>2.0</td>\n",
       "      <td>1.0</td>\n",
       "      <td>0.500000</td>\n",
       "    </tr>\n",
       "    <tr>\n",
       "      <th>3</th>\n",
       "      <td>What is the problem with business culture vers...</td>\n",
       "      <td>In business culture, energy is expended on out...</td>\n",
       "      <td>According to the provided text, the issue with...</td>\n",
       "      <td>[Written by Paul Graham\\r\\n\\r\\nLearning from F...</td>\n",
       "      <td>5.0</td>\n",
       "      <td>1.0</td>\n",
       "      <td>0.800000</td>\n",
       "    </tr>\n",
       "    <tr>\n",
       "      <th>4</th>\n",
       "      <td>What's the single biggest thing the government...</td>\n",
       "      <td>Establish a new class of visa for startup foun...</td>\n",
       "      <td>According to the provided text, the single big...</td>\n",
       "      <td>[Written by Paul Graham\\r\\n\\r\\nThe Founder Vis...</td>\n",
       "      <td>5.0</td>\n",
       "      <td>1.0</td>\n",
       "      <td>1.000000</td>\n",
       "    </tr>\n",
       "  </tbody>\n",
       "</table>\n",
       "</div>"
      ],
      "text/plain": [
       "                                            question  \\\n",
       "0              What makes Sam Altman a good founder?   \n",
       "1        When was the essay \"Five Founders\" written?   \n",
       "2  When does the most dramatic growth happen for ...   \n",
       "3  What is the problem with business culture vers...   \n",
       "4  What's the single biggest thing the government...   \n",
       "\n",
       "                                    reference_answer  \\\n",
       "0                      He has a great force of will.   \n",
       "1                                         April 2009   \n",
       "2    When the startup only has three or four people.   \n",
       "3  In business culture, energy is expended on out...   \n",
       "4  Establish a new class of visa for startup foun...   \n",
       "\n",
       "                                          llm_answer  \\\n",
       "0  According to Paul Graham's essay, Sam Altman i...   \n",
       "1  The essay \"Five Founders\" was written in April...   \n",
       "2  According to the provided text, the most drama...   \n",
       "3  According to the provided text, the issue with...   \n",
       "4  According to the provided text, the single big...   \n",
       "\n",
       "                                   retrieved_context  answer_similarity  \\\n",
       "0  [You can't plan when you start a startup how l...                4.0   \n",
       "1  [Written by Paul Graham\\r\\n\\r\\nFive Founders\\r...                5.0   \n",
       "2  [Written by Paul Graham\\r\\n\\r\\nStartup = Growt...                2.0   \n",
       "3  [Written by Paul Graham\\r\\n\\r\\nLearning from F...                5.0   \n",
       "4  [Written by Paul Graham\\r\\n\\r\\nThe Founder Vis...                5.0   \n",
       "\n",
       "   augmentation_precision  answer_consistency  \n",
       "0                     1.0            0.666667  \n",
       "1                     1.0            1.000000  \n",
       "2                     1.0            0.500000  \n",
       "3                     1.0            0.800000  \n",
       "4                     1.0            1.000000  "
      ]
     },
     "execution_count": 8,
     "metadata": {},
     "output_type": "execute_result"
    }
   ],
   "source": [
    "scores_df.head()"
   ]
  },
  {
   "cell_type": "code",
   "execution_count": null,
   "id": "16e21dcb",
   "metadata": {},
   "outputs": [],
   "source": [
    "from tonic_validate import ValidateApi\n",
    "\n",
    "validate_api = ValidateApi()\n",
    "validate_api.upload_run(\"project-id\", response_scores)"
   ]
  }
 ],
 "metadata": {
  "kernelspec": {
   "display_name": "Python 3",
   "language": "python",
   "name": "python3"
  },
  "language_info": {
   "codemirror_mode": {
    "name": "ipython",
    "version": 3
   },
   "file_extension": ".py",
   "mimetype": "text/x-python",
   "name": "python",
   "nbconvert_exporter": "python",
   "pygments_lexer": "ipython3",
   "version": "3.11.7"
  }
 },
 "nbformat": 4,
 "nbformat_minor": 5
}
