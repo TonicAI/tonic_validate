{
 "cells": [
  {
   "cell_type": "markdown",
   "id": "074e394b",
   "metadata": {},
   "source": [
    "# Llama Index x Tonic Validate Webinar"
   ]
  },
  {
   "cell_type": "markdown",
   "id": "b8944d89",
   "metadata": {},
   "source": [
    "## Setting Up Llama Index"
   ]
  },
  {
   "cell_type": "markdown",
   "id": "ebe5b069",
   "metadata": {},
   "source": [
    "### Setting up local embedding"
   ]
  },
  {
   "cell_type": "markdown",
   "id": "006762a9",
   "metadata": {},
   "source": [
    "`BAAI/bge-small-en-v1.5` is a local embedding model which replaces the default OpenAI embedding model. This model is known for being focused on RAG and has good performance for llama-index. By using a local model, we can avoid the need to send our private data to a remote server."
   ]
  },
  {
   "cell_type": "code",
   "execution_count": 1,
   "id": "ab805b67",
   "metadata": {},
   "outputs": [],
   "source": [
    "from llama_index.core import Settings\n",
    "from llama_index.embeddings.huggingface import HuggingFaceEmbedding\n",
    "\n",
    "# Set the default embedding model to BAAI/bge-small-en-v1.5\n",
    "Settings.embed_model = HuggingFaceEmbedding(\n",
    "    model_name=\"BAAI/bge-small-en-v1.5\"\n",
    ")"
   ]
  },
  {
   "cell_type": "markdown",
   "id": "d8f28cd5",
   "metadata": {},
   "source": [
    "### Setting up Ollama"
   ]
  },
  {
   "cell_type": "markdown",
   "id": "51e2fbb1",
   "metadata": {},
   "source": [
    "Ollama is a tool for running local models easily on your computer. To use Ollama with LlamaIndex, we must set the default LLM to use Ollama. We are using Llama2 70b for the model we are running on Ollama. We chose Llama2 70b because of it's ability to follow instructions better than smaller models. However, due to the model's size we are running the model on a separate server with 4 A10G GPUs. We also raised the amount of time it takes for the LLM request to time out due to how long the 70b version of Llama2 takes to run."
   ]
  },
  {
   "cell_type": "code",
   "execution_count": 2,
   "id": "10d29e8e",
   "metadata": {},
   "outputs": [],
   "source": [
    "import os\n",
    "ollama_url = os.getenv(\"OLLAMA_URL\")"
   ]
  },
  {
   "cell_type": "code",
   "execution_count": 3,
   "id": "eefebf14",
   "metadata": {},
   "outputs": [],
   "source": [
    "from llama_index.llms.ollama import Ollama\n",
    "\n",
    "Settings.llm = Ollama(model=\"llama2:70b-chat\", base_url=ollama_url, request_timeout=180.0)"
   ]
  },
  {
   "cell_type": "markdown",
   "id": "9b0992a6",
   "metadata": {},
   "source": [
    "### Setting up Llama Index"
   ]
  },
  {
   "cell_type": "markdown",
   "id": "75d1769e",
   "metadata": {},
   "source": [
    "First, we will load our data for RAG into Llama Index. For our data, we will be using a collection of Paul Grahams essays and we will be asking questions about his essays."
   ]
  },
  {
   "cell_type": "code",
   "execution_count": 4,
   "id": "3be7b5fa",
   "metadata": {},
   "outputs": [],
   "source": [
    "from llama_index.core import VectorStoreIndex, SimpleDirectoryReader\n",
    "\n",
    "documents = SimpleDirectoryReader(\"../paul_graham_essays\").load_data()\n",
    "index = VectorStoreIndex.from_documents(documents)"
   ]
  },
  {
   "cell_type": "markdown",
   "id": "fb58a9ea",
   "metadata": {},
   "source": [
    "Now we can set up our query engine and write a simple function to output our results from the query engine"
   ]
  },
  {
   "cell_type": "code",
   "execution_count": 5,
   "id": "14c362a3",
   "metadata": {},
   "outputs": [],
   "source": [
    "from llama_index.core import Response\n",
    "from tonic_validate import CallbackLLMResponse\n",
    "\n",
    "query_engine = index.as_query_engine()\n",
    "\n",
    "# Gets the response from llama index in a format Tonic Validate can understand\n",
    "def get_llama_response(prompt) -> CallbackLLMResponse:\n",
    "    response = query_engine.query(prompt)\n",
    "    # Check response is of type Response\n",
    "    if not isinstance(response, Response):\n",
    "        raise ValueError(f\"Expected Response, got {type(response)}\")\n",
    "    \n",
    "    # Get the response and context from the Llama index\n",
    "    context = [x.text for x in response.source_nodes]\n",
    "    answer = response.response\n",
    "    if answer is None:\n",
    "        raise ValueError(\"No response from Llama\")\n",
    "    \n",
    "    return {\n",
    "        \"llm_answer\": answer,\n",
    "        \"llm_context_list\": context\n",
    "    }"
   ]
  },
  {
   "cell_type": "markdown",
   "id": "45f08b09",
   "metadata": {},
   "source": [
    "### Asking questions to Llama Index"
   ]
  },
  {
   "cell_type": "markdown",
   "id": "70c472cf",
   "metadata": {},
   "source": [
    "Now that we have Llama Index set up, we can load our questions to ask Llama Index about the Paul Graham essays. In the following code, we will just load our 10 questions from a json file with the questions. We also have reference answers for each question which represents the ideal answer to the question. For instance, if you have a question \"What is the capital of France\" then the reference answer would be \"Paris\""
   ]
  },
  {
   "cell_type": "code",
   "execution_count": 6,
   "id": "c945cbab",
   "metadata": {},
   "outputs": [],
   "source": [
    "import json\n",
    "qa_pairs = []\n",
    "with open(\"../question_and_answer_list.json\", \"r\") as qa_file:\n",
    "    qa_pairs = json.load(qa_file)[:10]"
   ]
  },
  {
   "cell_type": "markdown",
   "id": "eb2c5e32",
   "metadata": {},
   "source": [
    "Let's view the questions and answers in the json file we just loaded"
   ]
  },
  {
   "cell_type": "code",
   "execution_count": 7,
   "id": "9b6bca5e",
   "metadata": {},
   "outputs": [],
   "source": [
    "def print_qa_pair(qa_pair):\n",
    "    print(f\"Question: {qa_pair['question']}\")\n",
    "    print(f\"Answer: {qa_pair['answer']}\")\n",
    "    print()"
   ]
  },
  {
   "cell_type": "code",
   "execution_count": 8,
   "id": "4c6dbb84",
   "metadata": {},
   "outputs": [
    {
     "name": "stdout",
     "output_type": "stream",
     "text": [
      "Question: What makes Sam Altman a good founder?\n",
      "Answer: He has a great force of will.\n",
      "\n",
      "Question: When was the essay \"Five Founders\" written?\n",
      "Answer: April 2009\n",
      "\n",
      "Question: When does the most dramatic growth happen for a startup?\n",
      "Answer: When the startup only has three or four people.\n",
      "\n",
      "Question: What is the problem with business culture versus start up culture with respect to productivity?\n",
      "Answer: In business culture, energy is expended on outward appearance to the detriment of productivity, while in startup culture there is no value of appearance it's all about productivity.\n",
      "\n",
      "Question: What's the single biggest thing the government could do to increase the number of startups in this country?\n",
      "Answer: Establish a new class of visa for startup founders.\n",
      "\n",
      "Question: How could one create a rigorous government definition of what a startup is to categorize whether a business is a startup?\n",
      "Answer: One could define a startup as a company that has received investment by recognized startup investors. An accreditation procedure would be determined to establish recognized startup investors.\n",
      "\n",
      "Question: Why is frienship a good quality of founders?\n",
      "Answer: Friendship is a good quality of founders because building a startup is tough and without a strong friendship building the startup will tear the founders apart.\n",
      "\n",
      "Question: Why is determination the most important quality in startup founders?\n",
      "Answer: Because when building a startup you're going to hit a lot of obstacles, and determination will prevent one from getting demoralized by the constant obstacles.\n",
      "\n",
      "Question: For startups, what does board control mean in practice?\n",
      "Answer: During board meetings, matters are decided in the discussion preceding the vote, not in the vote itself, which is usually unanimous. If opinion is divided in such discussions, the side that knows it would lose in a vote tends to be less insistent. This is what board control means in practice.\n",
      "\n",
      "Question: What's in the way of founders keeping board control after a series A?\n",
      "Answer: The perception that founders keeping board control after a series A being a concession a VC has made when negotiating with startups. VCs do not want to look like they've lost a negotiation. If founders keeping control after a series A is the norm, then it happening will not look like the VCs lost the negotiation.\n",
      "\n"
     ]
    }
   ],
   "source": [
    "for qa_pair in qa_pairs:\n",
    "    print_qa_pair(qa_pair)"
   ]
  },
  {
   "cell_type": "markdown",
   "id": "c79df11d",
   "metadata": {},
   "source": [
    "Let's take one of the questions we loaded and ask it to Llama Index to see the response quality"
   ]
  },
  {
   "cell_type": "code",
   "execution_count": 9,
   "id": "25eedb0a",
   "metadata": {},
   "outputs": [
    {
     "name": "stdout",
     "output_type": "stream",
     "text": [
      "Question: What makes Sam Altman a good founder?\n",
      "Answer: He has a great force of will.\n",
      "\n"
     ]
    }
   ],
   "source": [
    "example_qa = qa_pairs[0]\n",
    "print_qa_pair(example_qa)"
   ]
  },
  {
   "cell_type": "code",
   "execution_count": 10,
   "id": "94b57275",
   "metadata": {},
   "outputs": [
    {
     "data": {
      "text/plain": [
       "{'llm_answer': 'Sam Altman is considered a good founder because he possesses qualities such as toughness, adaptability, and determination. These traits enable him to take risks, overcome obstacles, and persevere in the face of challenges, increasing his chances of success in business.',\n",
       " 'llm_context_list': ['You can\\'t plan when you start a startup how long it will take to become profitable. But if you find yourself in a position where a little more effort expended on sales would carry you over the threshold of ramen profitable, do it. Investors like it when you\\'re ramen profitable. It shows you\\'ve thought about making money, instead of just working on amusing technical problems; it shows you have the discipline to keep your expenses low; but above all, it means you don\\'t need them. There is nothing investors like more than a startup that seems like it\\'s going to succeed even without them. Investors like it when they can help a startup, but they don\\'t like startups that would die without that help. At YC we spend a lot of time trying to predict how the startups we\\'ve funded will do, because we\\'re trying to learn how to pick winners. We\\'ve now watched the trajectories of so many startups that we\\'re getting better at predicting them. And when we\\'re talking about startups we think are likely to succeed, what we find ourselves saying is things like \"Oh, those guys can take care of themselves. They\\'ll be fine.\" Not \"those guys are really smart\" or \"those guys are working on a great idea.\" [6] When we predict good outcomes for startups, the qualities that come up in the supporting arguments are toughness, adaptability, determination. Which means to the extent we\\'re correct, those are the qualities you need to win. Investors know this, at least unconsciously. The reason they like it when you don\\'t need them is not simply that they like what they can\\'t have, but because that quality is what makes founders succeed. Sam Altman has it. You could parachute him into an island full of cannibals and come back in 5 years and he\\'d be the king. If you\\'re Sam Altman, you don\\'t have to be profitable to convey to investors that you\\'ll succeed with or without them. (He wasn\\'t, and he did.) Not everyone has Sam\\'s deal-making ability. I myself don\\'t. But if you don\\'t, you can let the numbers speak for you. 6. Don\\'t take rejection personally. Getting rejected by investors can make you start to doubt yourself. After all, they\\'re more experienced than you. If they think your startup is lame, aren\\'t they probably right?Maybe, maybe not. The way to handle rejection is with precision. You shouldn\\'t simply ignore rejection. It might mean something. But you shouldn\\'t automatically get demoralized either. To understand what rejection means, you have to understand first of all how common it is. Statistically, the average VC is a rejection machine. David Hornik, a partner at August, told me: The numbers for me ended up being something like 500 to 800 plans received and read, somewhere between 50 and 100 initial 1 hour meetings held, about 20 companies that I got interested in, about 5 that I got serious about and did a bunch of work, 1 to 2 deals done in a year. So the odds are against you. You may be a great entrepreneur, working on interesting stuff, etc. but it is still incredibly unlikely that you get funded. This is less true with angels, but VCs reject practically everyone. The structure of their business means a partner does at most 2 new investments a year, no matter how many good startups approach him. In addition to the odds being terrible, the average investor is, as I mentioned, a pretty bad judge of startups. It\\'s harder to judge startups than most other things, because great startup ideas tend to seem wrong. A good startup idea has to be not just good but novel. And to be both good and novel, an idea probably has to seem bad to most people, or someone would already be doing it and it wouldn\\'t be novel. That makes judging startups harder than most other things one judges. You have to be an intellectual contrarian to be a good startup investor. That\\'s a problem for VCs, most of whom are not particularly imaginative. VCs are mostly money guys, not people who make things. [7] Angels are better at appreciating novel ideas, because most were founders themselves. So when you get a rejection, use the data that\\'s in it, and not what\\'s not. If an investor gives you specific reasons for not investing, look at your startup and ask if they\\'re right. If they\\'re real problems, fix them. But don\\'t just take their word for it.',\n",
       "  \"The last two are more powerful motivators than the first two. It's ok for founders to want to make money or to seem cool. Most do. But if the founders seem like they're doing it just to make money or just to seem cool, they're not likely to succeed on a big scale. The founders who are doing it for the money will take the first sufficiently large acquisition offer, and the ones who are doing it to seem cool will rapidly discover that there are much less painful ways of seeming cool. [3]Y Combinator certainly sees founders whose m. o. is to exploit people. YC is a magnet for them, because they want the YC brand. But when the YC partners detect someone like that, they reject them. If bad people made good founders, the YC partners would face a moral dilemma. Fortunately they don't, because bad people make bad founders. This exploitative type of founder is not going to succeed on a large scale, and in fact probably won't even succeed on a small one, because they're always going to be taking shortcuts. They see YC itself as a shortcut. Their exploitation usually begins with their own cofounders, which is disastrous, since the cofounders' relationship is the foundation of the company. Then it moves on to the users, which is also disastrous, because the sort of early adopters a successful startup wants as its initial users are the hardest to fool. The best this kind of founder can hope for is to keep the edifice of deception tottering along until some acquirer can be tricked into buying it. But that kind of acquisition is never very big. [4]If professional billionaire scouts know that exploiting people is not the skill to look for, why do some politicians think this is the defining quality of billionaires?I think they start from the feeling that it's wrong that one person could have so much more money than another. It's understandable where that feeling comes from. It's in our DNA, and even in the DNA of other species. If they limited themselves to saying that it made them feel bad when one person had so much more money than other people, who would disagree? It makes me feel bad too, and I think people who make a lot of money have a moral obligation to use it for the common good. The mistake they make is to jump from feeling bad that some people are much richer than others to the conclusion that there's no legitimate way to make a very large amount of money. Now we're getting into statements that are not only falsifiable, but false. There are certainly some people who become rich by doing bad things. But there are also plenty of people who behave badly and don't make that much from it. There is no correlation � in fact, probably an inverse correlation � between how badly you behave and how much money you make. The greatest danger of this nonsense may not even be that it sends policy astray, but that it misleads ambitious people. Can you imagine a better way to destroy social mobility than by telling poor kids that the way to get rich is by exploiting people, while the rich kids know, from having watched the preceding generation do it, how it's really done?I'll tell you how it's really done, so you can at least tell your own kids the truth. It's all about users. The most reliable way to become a billionaire is to start a company that grows fast, and the way to grow fast is to make what users want. Newly started startups have no choice but to delight users, or they'll never even get rolling. But this never stops being the lodestar, and bigger companies take their eye off it at their peril. Stop delighting users, and eventually someone else will. Users are what the partners want to know about in YC interviews, and what I want to know about when I talk to founders that we funded ten years ago and who are billionaires now. What do users want? What new things could you build for them? Founders who've become billionaires are always eager to talk about that topic. That's how they became billionaires. Notes[1] The YC partners have so much practice doing this that they sometimes see paths that the founders themselves haven't seen yet. The partners don't try to seem skeptical, as buyers in transactions often do to increase their leverage. Although the founders feel their job is to convince the partners of the potential of their idea, these roles are not infrequently reversed, and the founders leave the interview feeling their idea has more potential than they realized.[2] In practice, 7 minutes would be enough. You rarely change your mind at minute 8.\"]}"
      ]
     },
     "execution_count": 10,
     "metadata": {},
     "output_type": "execute_result"
    }
   ],
   "source": [
    "get_llama_response(example_qa[\"question\"])"
   ]
  },
  {
   "cell_type": "markdown",
   "id": "03ce380a",
   "metadata": {},
   "source": [
    "## Using Tonic Validate"
   ]
  },
  {
   "cell_type": "markdown",
   "id": "904df61d",
   "metadata": {},
   "source": [
    "Now let's set up Tonic Validate to score the questions. First, we will set up a benchmark in Tonic Validate. A benchmark is just a list of questions and reference answers that we will use to score the response quality. We will use the QA pairs we loaded earlier for this"
   ]
  },
  {
   "cell_type": "code",
   "execution_count": 11,
   "id": "f561d8e5",
   "metadata": {},
   "outputs": [],
   "source": [
    "from tonic_validate import Benchmark\n",
    "question_list = [qa_pair['question'] for qa_pair in qa_pairs]\n",
    "answer_list = [qa_pair['answer'] for qa_pair in qa_pairs]\n",
    "\n",
    "benchmark = Benchmark(questions=question_list, answers=answer_list)"
   ]
  },
  {
   "cell_type": "markdown",
   "id": "49a255c6",
   "metadata": {},
   "source": [
    "Now we can run through the questions and score the response quality with Tonic Validate"
   ]
  },
  {
   "cell_type": "code",
   "execution_count": 12,
   "id": "4b585568",
   "metadata": {},
   "outputs": [
    {
     "name": "stderr",
     "output_type": "stream",
     "text": [
      "Retrieving responses: 100%|██████████| 10/10 [04:37<00:00, 27.76s/it]\n",
      "Scoring responses:  20%|██        | 2/10 [01:30<05:48, 43.55s/it]Error calculating answer_consistency: Could not determine true or false from response \n",
      "statement: \"the distinctive feature of successful startups is that they're not.\"\n",
      "\n",
      "can this statement be derived from the context?\n",
      "\n",
      "true or false. Retrying...\n",
      "Error calculating answer_consistency: Could not determine true or false from response \n",
      "statement: \"the distinctive feature of successful startups is that they're not.\"\n",
      "\n",
      "can this statement be derived from the context?\n",
      "\n",
      "true or false. Retrying...\n",
      "Error calculating answer_consistency: Could not determine true or false from response \n",
      "statement: \"the distinctive feature of successful startups is that they're not.\"\n",
      "\n",
      "can this statement be derived from the context?\n",
      "\n",
      "true or false. Retrying...\n",
      "Error calculating answer_consistency: Could not determine true or false from response \n",
      "statement: \"the distinctive feature of successful startups is that they're not.\"\n",
      "\n",
      "can this statement be derived from the context?\n",
      "\n",
      "true or false. Retrying...\n",
      "Error calculating answer_consistency: Could not determine true or false from response \n",
      "statement: \"the distinctive feature of successful startups is that they're not.\"\n",
      "\n",
      "can this statement be derived from the context?\n",
      "\n",
      "true or false. Retrying...\n",
      "Error calculating answer_consistency: Could not determine true or false from response \n",
      "statement: \"the distinctive feature of successful startups is that they're not.\"\n",
      "\n",
      "can this statement be derived from the context?\n",
      "\n",
      "true or false. Retrying...\n",
      "Error calculating answer_consistency: Could not determine true or false from response \n",
      "statement: \"the distinctive feature of successful startups is that they're not.\"\n",
      "\n",
      "can this statement be derived from the context?\n",
      "\n",
      "true or false. Retrying...\n",
      "Error calculating answer_consistency: Could not determine true or false from response \n",
      "statement: \"the distinctive feature of successful startups is that they're not.\"\n",
      "\n",
      "can this statement be derived from the context?\n",
      "\n",
      "true or false. Retrying...\n",
      "Error calculating answer_consistency: Could not determine true or false from response \n",
      "statement: \"the distinctive feature of successful startups is that they're not.\"\n",
      "\n",
      "can this statement be derived from the context?\n",
      "\n",
      "true or false. Retrying...\n",
      "Error calculating answer_consistency: Could not determine true or false from response \n",
      "statement: \"the distinctive feature of successful startups is that they're not.\"\n",
      "\n",
      "can this statement be derived from the context?\n",
      "\n",
      "true or false. Retrying...\n",
      "Error calculating answer_consistency. Setting score to None.\n",
      "Scoring responses:  30%|███       | 3/10 [02:55<07:19, 62.71s/it]Error calculating answer_consistency: Could not determine true or false from response \n",
      "the statement: \"startups are not small versions of large companies, they are a different thing entirely.\"\n",
      "\n",
      "can this statement be derived from the context?. Retrying...\n",
      "Error calculating answer_consistency: Could not determine true or false from response \n",
      "the statement: \"startups are not small versions of large companies, they are a different thing entirely.\"\n",
      "\n",
      "can this statement be derived from the context?. Retrying...\n",
      "Error calculating answer_consistency: Could not determine true or false from response \n",
      "the statement: \"startups are not small versions of large companies, they are a different thing entirely.\"\n",
      "\n",
      "can this statement be derived from the context?. Retrying...\n",
      "Error calculating answer_consistency: Could not determine true or false from response \n",
      "the statement: \"startups are not small versions of large companies, they are a different thing entirely.\"\n",
      "\n",
      "can this statement be derived from the context?. Retrying...\n",
      "Error calculating answer_consistency: Could not determine true or false from response \n",
      "the statement: \"startups are not small versions of large companies, they are a different thing entirely.\"\n",
      "\n",
      "can this statement be derived from the context?. Retrying...\n",
      "Error calculating answer_consistency: Could not determine true or false from response \n",
      "the statement: \"startups are not small versions of large companies, they are a different thing entirely.\"\n",
      "\n",
      "can this statement be derived from the context?. Retrying...\n",
      "Error calculating answer_consistency: Could not determine true or false from response \n",
      "the statement: \"startups are not small versions of large companies, they are a different thing entirely.\"\n",
      "\n",
      "can this statement be derived from the context?. Retrying...\n",
      "Error calculating answer_consistency: Could not determine true or false from response \n",
      "the statement: \"startups are not small versions of large companies, they are a different thing entirely.\"\n",
      "\n",
      "can this statement be derived from the context?. Retrying...\n",
      "Error calculating answer_consistency: Could not determine true or false from response \n",
      "the statement: \"startups are not small versions of large companies, they are a different thing entirely.\"\n",
      "\n",
      "can this statement be derived from the context?. Retrying...\n",
      "Error calculating answer_consistency: Could not determine true or false from response \n",
      "the statement: \"startups are not small versions of large companies, they are a different thing entirely.\"\n",
      "\n",
      "can this statement be derived from the context?. Retrying...\n",
      "Error calculating answer_consistency. Setting score to None.\n",
      "Scoring responses: 100%|██████████| 10/10 [12:46<00:00, 76.63s/it]\n"
     ]
    }
   ],
   "source": [
    "from tonic_validate import ValidateScorer\n",
    "import os\n",
    "\n",
    "os.environ[\"OPENAI_BASE_URL\"] = f\"{ollama_url}/v1\"\n",
    "scorer = ValidateScorer(model_evaluator=\"llama2:70b-chat\", max_parsing_retries=10)\n",
    "response_scores = scorer.score(benchmark, get_llama_response)"
   ]
  },
  {
   "cell_type": "markdown",
   "id": "e0de9cc5-479d-46a2-a8eb-821436ac7e8d",
   "metadata": {},
   "source": [
    "Let's view the results in a dataframe to see the scores"
   ]
  },
  {
   "cell_type": "code",
   "execution_count": 13,
   "id": "3f07d61f",
   "metadata": {},
   "outputs": [
    {
     "data": {
      "text/html": [
       "<div>\n",
       "<style scoped>\n",
       "    .dataframe tbody tr th:only-of-type {\n",
       "        vertical-align: middle;\n",
       "    }\n",
       "\n",
       "    .dataframe tbody tr th {\n",
       "        vertical-align: top;\n",
       "    }\n",
       "\n",
       "    .dataframe thead th {\n",
       "        text-align: right;\n",
       "    }\n",
       "</style>\n",
       "<table border=\"1\" class=\"dataframe\">\n",
       "  <thead>\n",
       "    <tr style=\"text-align: right;\">\n",
       "      <th></th>\n",
       "      <th>question</th>\n",
       "      <th>answer_similarity</th>\n",
       "      <th>augmentation_precision</th>\n",
       "      <th>answer_consistency</th>\n",
       "    </tr>\n",
       "  </thead>\n",
       "  <tbody>\n",
       "    <tr>\n",
       "      <th>0</th>\n",
       "      <td>What makes Sam Altman a good founder?</td>\n",
       "      <td>4.0</td>\n",
       "      <td>1.0</td>\n",
       "      <td>1.0</td>\n",
       "    </tr>\n",
       "    <tr>\n",
       "      <th>1</th>\n",
       "      <td>When was the essay \"Five Founders\" written?</td>\n",
       "      <td>5.0</td>\n",
       "      <td>1.0</td>\n",
       "      <td>1.0</td>\n",
       "    </tr>\n",
       "    <tr>\n",
       "      <th>2</th>\n",
       "      <td>When does the most dramatic growth happen for ...</td>\n",
       "      <td>2.0</td>\n",
       "      <td>1.0</td>\n",
       "      <td>NaN</td>\n",
       "    </tr>\n",
       "    <tr>\n",
       "      <th>3</th>\n",
       "      <td>What is the problem with business culture vers...</td>\n",
       "      <td>4.0</td>\n",
       "      <td>1.0</td>\n",
       "      <td>NaN</td>\n",
       "    </tr>\n",
       "    <tr>\n",
       "      <th>4</th>\n",
       "      <td>What's the single biggest thing the government...</td>\n",
       "      <td>5.0</td>\n",
       "      <td>1.0</td>\n",
       "      <td>1.0</td>\n",
       "    </tr>\n",
       "    <tr>\n",
       "      <th>5</th>\n",
       "      <td>How could one create a rigorous government def...</td>\n",
       "      <td>4.0</td>\n",
       "      <td>1.0</td>\n",
       "      <td>1.0</td>\n",
       "    </tr>\n",
       "    <tr>\n",
       "      <th>6</th>\n",
       "      <td>Why is frienship a good quality of founders?</td>\n",
       "      <td>4.0</td>\n",
       "      <td>1.0</td>\n",
       "      <td>1.0</td>\n",
       "    </tr>\n",
       "    <tr>\n",
       "      <th>7</th>\n",
       "      <td>Why is determination the most important qualit...</td>\n",
       "      <td>5.0</td>\n",
       "      <td>1.0</td>\n",
       "      <td>1.0</td>\n",
       "    </tr>\n",
       "    <tr>\n",
       "      <th>8</th>\n",
       "      <td>For startups, what does board control mean in ...</td>\n",
       "      <td>4.0</td>\n",
       "      <td>1.0</td>\n",
       "      <td>1.0</td>\n",
       "    </tr>\n",
       "    <tr>\n",
       "      <th>9</th>\n",
       "      <td>What's in the way of founders keeping board co...</td>\n",
       "      <td>4.0</td>\n",
       "      <td>1.0</td>\n",
       "      <td>1.0</td>\n",
       "    </tr>\n",
       "  </tbody>\n",
       "</table>\n",
       "</div>"
      ],
      "text/plain": [
       "                                            question  answer_similarity  \\\n",
       "0              What makes Sam Altman a good founder?                4.0   \n",
       "1        When was the essay \"Five Founders\" written?                5.0   \n",
       "2  When does the most dramatic growth happen for ...                2.0   \n",
       "3  What is the problem with business culture vers...                4.0   \n",
       "4  What's the single biggest thing the government...                5.0   \n",
       "5  How could one create a rigorous government def...                4.0   \n",
       "6       Why is frienship a good quality of founders?                4.0   \n",
       "7  Why is determination the most important qualit...                5.0   \n",
       "8  For startups, what does board control mean in ...                4.0   \n",
       "9  What's in the way of founders keeping board co...                4.0   \n",
       "\n",
       "   augmentation_precision  answer_consistency  \n",
       "0                     1.0                 1.0  \n",
       "1                     1.0                 1.0  \n",
       "2                     1.0                 NaN  \n",
       "3                     1.0                 NaN  \n",
       "4                     1.0                 1.0  \n",
       "5                     1.0                 1.0  \n",
       "6                     1.0                 1.0  \n",
       "7                     1.0                 1.0  \n",
       "8                     1.0                 1.0  \n",
       "9                     1.0                 1.0  "
      ]
     },
     "execution_count": 13,
     "metadata": {},
     "output_type": "execute_result"
    }
   ],
   "source": [
    "response_scores.to_df()"
   ]
  },
  {
   "cell_type": "code",
   "execution_count": null,
   "id": "16e21dcb",
   "metadata": {},
   "outputs": [],
   "source": [
    "from tonic_validate import ValidateApi\n",
    "\n",
    "validate_api = ValidateApi()\n",
    "validate_api.upload_run(\"project-id\", response_scores)"
   ]
  }
 ],
 "metadata": {
  "kernelspec": {
   "display_name": "Python 3",
   "language": "python",
   "name": "python3"
  },
  "language_info": {
   "codemirror_mode": {
    "name": "ipython",
    "version": 3
   },
   "file_extension": ".py",
   "mimetype": "text/x-python",
   "name": "python",
   "nbconvert_exporter": "python",
   "pygments_lexer": "ipython3",
   "version": "3.11.7"
  }
 },
 "nbformat": 4,
 "nbformat_minor": 5
}
